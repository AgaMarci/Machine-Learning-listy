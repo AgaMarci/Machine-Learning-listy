{
 "cells": [
  {
   "cell_type": "markdown",
   "id": "475c4fb6",
   "metadata": {},
   "source": [
    "##### Agnieszka Marciszewska"
   ]
  },
  {
   "cell_type": "markdown",
   "id": "51fcf75b",
   "metadata": {},
   "source": [
    "# Machine Learning\n",
    "## Assigment 4\n",
    "#### Perform some experiments with recurrent neural networks, for example using Keras."
   ]
  },
  {
   "cell_type": "code",
   "execution_count": 6,
   "id": "69e41bf9",
   "metadata": {},
   "outputs": [],
   "source": [
    "from tensorflow.keras.layers import SimpleRNN, LSTM, GRU, Bidirectional, Dense, Embedding\n",
    "from tensorflow.keras.datasets import imdb\n",
    "from tensorflow.keras.models import Sequential\n",
    "import numpy as np\n",
    "from tensorflow.keras.preprocessing import sequence\n",
    "from keras.utils import to_categorical\n",
    "import matplotlib.pyplot as plt"
   ]
  },
  {
   "cell_type": "markdown",
   "id": "08851ff9",
   "metadata": {},
   "source": [
    "#### Table of contents: <a class=\"anchor\" id=\"toc\"></a>\n",
    "* [Download and prepare data](#data)\n",
    "* [Model 1](#model1) \n",
    "* [Model 2](#model2) \n",
    "* [Model 3](#model3) \n",
    "* [Model 4](#model4) \n",
    "* [Model 5](#model5) \n",
    "* [Compariosn of models](#compare)"
   ]
  },
  {
   "cell_type": "markdown",
   "id": "3a340c19",
   "metadata": {},
   "source": [
    "## Download and prepare data  <a class=\"anchor\" id=\"data\"></a>"
   ]
  },
  {
   "cell_type": "code",
   "execution_count": 12,
   "id": "b32d53b6",
   "metadata": {},
   "outputs": [
    {
     "name": "stdout",
     "output_type": "stream",
     "text": [
      "88584\n"
     ]
    }
   ],
   "source": [
    "word_index = imdb.get_word_index()\n",
    "print(len(word_index))"
   ]
  },
  {
   "cell_type": "code",
   "execution_count": 13,
   "id": "9125c002",
   "metadata": {},
   "outputs": [],
   "source": [
    "vocab_size = 5000\n",
    "(x_train, y_train), (x_test, y_test) = imdb.load_data(num_words=vocab_size)"
   ]
  },
  {
   "cell_type": "code",
   "execution_count": 14,
   "id": "e6921a5d",
   "metadata": {},
   "outputs": [],
   "source": [
    "max_words = 400"
   ]
  },
  {
   "cell_type": "code",
   "execution_count": 15,
   "id": "9f284c88",
   "metadata": {},
   "outputs": [],
   "source": [
    "x_train = sequence.pad_sequences(x_train, padding='post', maxlen=max_words)\n",
    "x_test = sequence.pad_sequences(x_test, padding='post', maxlen=max_words)"
   ]
  },
  {
   "cell_type": "code",
   "execution_count": 16,
   "id": "2bec6942",
   "metadata": {},
   "outputs": [
    {
     "name": "stdout",
     "output_type": "stream",
     "text": [
      "400 400\n"
     ]
    }
   ],
   "source": [
    "review_len_train = []\n",
    "review_len_test = []\n",
    "for i in x_train:\n",
    "    review_len_train.append(len(i))\n",
    "for i in x_test:\n",
    "    review_len_train.append(len(i))  \n",
    "    \n",
    "print(max(review_len_train),max(review_len_train))"
   ]
  },
  {
   "cell_type": "markdown",
   "id": "87f5f920",
   "metadata": {},
   "source": [
    "## Model 1 <a class=\"anchor\" id=\"model1\"></a>"
   ]
  },
  {
   "cell_type": "code",
   "execution_count": 17,
   "id": "30bca345",
   "metadata": {},
   "outputs": [],
   "source": [
    "batch_size = 64\n",
    "ep = 10\n",
    "embd_len = 32"
   ]
  },
  {
   "cell_type": "code",
   "execution_count": 18,
   "id": "b5554078",
   "metadata": {},
   "outputs": [
    {
     "name": "stdout",
     "output_type": "stream",
     "text": [
      "Epoch 1/10\n",
      "391/391 [==============================] - 42s 106ms/step - loss: 0.6983 - accuracy: 0.4992 - val_loss: 0.6995 - val_accuracy: 0.5169\n",
      "Epoch 2/10\n",
      "391/391 [==============================] - 39s 99ms/step - loss: 0.6965 - accuracy: 0.5119 - val_loss: 0.6959 - val_accuracy: 0.5026\n",
      "Epoch 3/10\n",
      "391/391 [==============================] - 39s 100ms/step - loss: 0.6930 - accuracy: 0.5145 - val_loss: 0.6928 - val_accuracy: 0.5234\n",
      "Epoch 4/10\n",
      "391/391 [==============================] - 39s 100ms/step - loss: 0.6881 - accuracy: 0.5232 - val_loss: 0.6882 - val_accuracy: 0.5138\n",
      "Epoch 5/10\n",
      "391/391 [==============================] - 40s 102ms/step - loss: 0.6863 - accuracy: 0.5271 - val_loss: 0.6922 - val_accuracy: 0.5071\n",
      "Epoch 6/10\n",
      "391/391 [==============================] - 40s 104ms/step - loss: 0.6911 - accuracy: 0.5212 - val_loss: 0.6954 - val_accuracy: 0.5084\n",
      "Epoch 7/10\n",
      "391/391 [==============================] - 40s 103ms/step - loss: 0.6862 - accuracy: 0.5247 - val_loss: 0.6988 - val_accuracy: 0.5077\n",
      "Epoch 8/10\n",
      "391/391 [==============================] - 39s 100ms/step - loss: 0.6889 - accuracy: 0.5266 - val_loss: 0.7014 - val_accuracy: 0.5043\n",
      "Epoch 9/10\n",
      "391/391 [==============================] - 38s 98ms/step - loss: 0.6853 - accuracy: 0.5288 - val_loss: 0.7179 - val_accuracy: 0.5041\n",
      "Epoch 10/10\n",
      "391/391 [==============================] - 39s 99ms/step - loss: 0.6794 - accuracy: 0.5302 - val_loss: 0.6932 - val_accuracy: 0.5057\n"
     ]
    }
   ],
   "source": [
    "RNN_model1 = Sequential(name=\"Simple_RNN\")\n",
    "RNN_model1.add(Embedding(vocab_size,embd_len,input_length=max_words))\n",
    "RNN_model1.add(SimpleRNN(128,activation='tanh'))\n",
    "RNN_model1.add(Dense(1, activation='sigmoid'))\n",
    "\n",
    "RNN_model1.compile(loss=\"binary_crossentropy\",optimizer='adam',metrics=['accuracy'])\n",
    "\n",
    "history1 = RNN_model1.fit(x_train, y_train,batch_size=batch_size,epochs=ep,\n",
    "                          validation_data=(x_test, y_test))\n",
    "\n"
   ]
  },
  {
   "cell_type": "markdown",
   "id": "b459d9d4",
   "metadata": {},
   "source": [
    "[Back to table of contents](#toc)"
   ]
  },
  {
   "cell_type": "markdown",
   "id": "f9c568c0",
   "metadata": {},
   "source": [
    "## Model 2 - different optimizer <a class=\"anchor\" id=\"model2\"></a>"
   ]
  },
  {
   "cell_type": "code",
   "execution_count": 19,
   "id": "29f9ca55",
   "metadata": {},
   "outputs": [
    {
     "name": "stdout",
     "output_type": "stream",
     "text": [
      "Epoch 1/10\n",
      "391/391 [==============================] - 39s 99ms/step - loss: 0.6942 - accuracy: 0.4983 - val_loss: 0.6931 - val_accuracy: 0.5012\n",
      "Epoch 2/10\n",
      "391/391 [==============================] - 40s 102ms/step - loss: 0.6932 - accuracy: 0.5048 - val_loss: 0.6931 - val_accuracy: 0.5018\n",
      "Epoch 3/10\n",
      "391/391 [==============================] - 42s 106ms/step - loss: 0.6929 - accuracy: 0.5076 - val_loss: 0.6935 - val_accuracy: 0.5040\n",
      "Epoch 4/10\n",
      "391/391 [==============================] - 39s 101ms/step - loss: 0.6926 - accuracy: 0.5138 - val_loss: 0.6937 - val_accuracy: 0.5038\n",
      "Epoch 5/10\n",
      "391/391 [==============================] - 40s 102ms/step - loss: 0.6924 - accuracy: 0.5102 - val_loss: 0.6930 - val_accuracy: 0.5084\n",
      "Epoch 6/10\n",
      "391/391 [==============================] - 41s 104ms/step - loss: 0.6922 - accuracy: 0.5109 - val_loss: 0.6933 - val_accuracy: 0.5038\n",
      "Epoch 7/10\n",
      "391/391 [==============================] - 41s 105ms/step - loss: 0.6918 - accuracy: 0.5129 - val_loss: 0.6936 - val_accuracy: 0.5027\n",
      "Epoch 8/10\n",
      "391/391 [==============================] - 41s 105ms/step - loss: 0.6915 - accuracy: 0.5144 - val_loss: 0.6936 - val_accuracy: 0.5006\n",
      "Epoch 9/10\n",
      "391/391 [==============================] - 39s 99ms/step - loss: 0.6910 - accuracy: 0.5108 - val_loss: 0.6937 - val_accuracy: 0.5029\n",
      "Epoch 10/10\n",
      "391/391 [==============================] - 40s 103ms/step - loss: 0.6904 - accuracy: 0.5145 - val_loss: 0.6935 - val_accuracy: 0.5040\n"
     ]
    }
   ],
   "source": [
    "RNN_model2 = Sequential(name=\"Simple_RNN\")\n",
    "RNN_model2.add(Embedding(vocab_size,embd_len,input_length=max_words))\n",
    "RNN_model2.add(SimpleRNN(128,activation='tanh'))\n",
    "RNN_model2.add(Dense(1, activation='sigmoid'))\n",
    "\n",
    "RNN_model2.compile(loss=\"binary_crossentropy\",optimizer='sgd',metrics=['accuracy'])\n",
    "\n",
    "history2 = RNN_model2.fit(x_train, y_train,batch_size=batch_size,epochs=ep,\n",
    "                          validation_data=(x_test, y_test))"
   ]
  },
  {
   "cell_type": "markdown",
   "id": "5d6b96b1",
   "metadata": {},
   "source": [
    "[Back to table of contents](#toc)"
   ]
  },
  {
   "cell_type": "markdown",
   "id": "ce54aa64",
   "metadata": {},
   "source": [
    "## Model 3 - different activation function <a class=\"anchor\" id=\"model3\"></a>"
   ]
  },
  {
   "cell_type": "code",
   "execution_count": 20,
   "id": "fbe78f6a",
   "metadata": {},
   "outputs": [
    {
     "name": "stdout",
     "output_type": "stream",
     "text": [
      "Epoch 1/10\n",
      "391/391 [==============================] - 38s 95ms/step - loss: 0.6903 - accuracy: 0.5105 - val_loss: 0.6870 - val_accuracy: 0.5146\n",
      "Epoch 2/10\n",
      "391/391 [==============================] - 37s 95ms/step - loss: nan - accuracy: 0.5290 - val_loss: nan - val_accuracy: 0.5000\n",
      "Epoch 3/10\n",
      "391/391 [==============================] - 37s 95ms/step - loss: nan - accuracy: 0.5000 - val_loss: nan - val_accuracy: 0.5000\n",
      "Epoch 4/10\n",
      "391/391 [==============================] - 38s 98ms/step - loss: nan - accuracy: 0.5000 - val_loss: nan - val_accuracy: 0.5000\n",
      "Epoch 5/10\n",
      "391/391 [==============================] - 37s 95ms/step - loss: nan - accuracy: 0.5000 - val_loss: nan - val_accuracy: 0.5000\n",
      "Epoch 6/10\n",
      "391/391 [==============================] - 37s 95ms/step - loss: nan - accuracy: 0.5000 - val_loss: nan - val_accuracy: 0.5000\n",
      "Epoch 7/10\n",
      "391/391 [==============================] - 37s 95ms/step - loss: nan - accuracy: 0.5000 - val_loss: nan - val_accuracy: 0.5000\n",
      "Epoch 8/10\n",
      "391/391 [==============================] - 37s 96ms/step - loss: nan - accuracy: 0.5000 - val_loss: nan - val_accuracy: 0.5000\n",
      "Epoch 9/10\n",
      "391/391 [==============================] - 37s 94ms/step - loss: nan - accuracy: 0.5000 - val_loss: nan - val_accuracy: 0.5000\n",
      "Epoch 10/10\n",
      "391/391 [==============================] - 37s 95ms/step - loss: nan - accuracy: 0.5000 - val_loss: nan - val_accuracy: 0.5000\n"
     ]
    }
   ],
   "source": [
    "RNN_model3 = Sequential(name=\"Simple_RNN\")\n",
    "RNN_model3.add(Embedding(vocab_size,embd_len,input_length=max_words))\n",
    "RNN_model3.add(SimpleRNN(128,activation='relu'))\n",
    "RNN_model3.add(Dense(1, activation='sigmoid'))\n",
    "\n",
    "RNN_model3.compile(loss=\"binary_crossentropy\",optimizer='adam',metrics=['accuracy'])\n",
    "\n",
    "history3 = RNN_model3.fit(x_train, y_train,batch_size=batch_size,epochs=ep,\n",
    "                          validation_data=(x_test, y_test))"
   ]
  },
  {
   "cell_type": "markdown",
   "id": "a15a0004",
   "metadata": {},
   "source": [
    "[Back to table of contents](#toc)"
   ]
  },
  {
   "cell_type": "markdown",
   "id": "2ac60017",
   "metadata": {},
   "source": [
    "## Model 4 - different embedding value <a class=\"anchor\" id=\"model4\"></a>"
   ]
  },
  {
   "cell_type": "code",
   "execution_count": 21,
   "id": "45a7725c",
   "metadata": {},
   "outputs": [
    {
     "name": "stdout",
     "output_type": "stream",
     "text": [
      "Epoch 1/10\n",
      "391/391 [==============================] - 43s 108ms/step - loss: 0.6988 - accuracy: 0.5027 - val_loss: 0.6944 - val_accuracy: 0.5016\n",
      "Epoch 2/10\n",
      "391/391 [==============================] - 41s 106ms/step - loss: 0.6951 - accuracy: 0.5058 - val_loss: 0.6934 - val_accuracy: 0.5045\n",
      "Epoch 3/10\n",
      "391/391 [==============================] - 40s 103ms/step - loss: 0.6945 - accuracy: 0.5058 - val_loss: 0.6937 - val_accuracy: 0.5005\n",
      "Epoch 4/10\n",
      "391/391 [==============================] - 41s 104ms/step - loss: 0.6947 - accuracy: 0.5074 - val_loss: 0.7077 - val_accuracy: 0.4990\n",
      "Epoch 5/10\n",
      "391/391 [==============================] - 40s 102ms/step - loss: 0.6913 - accuracy: 0.5216 - val_loss: 0.6928 - val_accuracy: 0.5075\n",
      "Epoch 6/10\n",
      "391/391 [==============================] - 40s 102ms/step - loss: 0.6882 - accuracy: 0.5262 - val_loss: 0.6964 - val_accuracy: 0.5073\n",
      "Epoch 7/10\n",
      "391/391 [==============================] - 41s 104ms/step - loss: 0.6803 - accuracy: 0.5278 - val_loss: 0.6940 - val_accuracy: 0.5090\n",
      "Epoch 8/10\n",
      "391/391 [==============================] - 42s 107ms/step - loss: 0.6752 - accuracy: 0.5288 - val_loss: 0.6935 - val_accuracy: 0.5129\n",
      "Epoch 9/10\n",
      "391/391 [==============================] - 41s 104ms/step - loss: 0.6688 - accuracy: 0.5288 - val_loss: 0.6963 - val_accuracy: 0.5127\n",
      "Epoch 10/10\n",
      "391/391 [==============================] - 40s 104ms/step - loss: 0.6635 - accuracy: 0.5367 - val_loss: 0.6974 - val_accuracy: 0.5164\n"
     ]
    }
   ],
   "source": [
    "RNN_model4 = Sequential(name=\"Simple_RNN\")\n",
    "RNN_model4.add(Embedding(vocab_size,64,input_length=max_words))\n",
    "RNN_model4.add(SimpleRNN(128,activation='tanh'))\n",
    "RNN_model4.add(Dense(1, activation='sigmoid'))\n",
    "\n",
    "RNN_model4.compile(loss=\"binary_crossentropy\",optimizer='adam',metrics=['accuracy'])\n",
    "history4 = RNN_model4.fit(x_train, y_train,batch_size=batch_size,epochs=ep,\n",
    "                          validation_data=(x_test, y_test))"
   ]
  },
  {
   "cell_type": "markdown",
   "id": "559911c2",
   "metadata": {},
   "source": [
    "[Back to table of contents](#toc)"
   ]
  },
  {
   "cell_type": "markdown",
   "id": "d0be4e3c",
   "metadata": {},
   "source": [
    "## Model 5 - two RNN layer  <a class=\"anchor\" id=\"model5\"></a>"
   ]
  },
  {
   "cell_type": "code",
   "execution_count": 22,
   "id": "ef0e6b4f",
   "metadata": {},
   "outputs": [
    {
     "name": "stdout",
     "output_type": "stream",
     "text": [
      "Epoch 1/10\n",
      "391/391 [==============================] - 89s 224ms/step - loss: 0.7089 - accuracy: 0.4946 - val_loss: 0.6984 - val_accuracy: 0.5036\n",
      "Epoch 2/10\n",
      "391/391 [==============================] - 87s 223ms/step - loss: 0.6968 - accuracy: 0.4984 - val_loss: 0.6935 - val_accuracy: 0.4955\n",
      "Epoch 3/10\n",
      "391/391 [==============================] - 89s 228ms/step - loss: 0.6958 - accuracy: 0.4946 - val_loss: 0.6953 - val_accuracy: 0.5062\n",
      "Epoch 4/10\n",
      "391/391 [==============================] - 88s 226ms/step - loss: 0.6950 - accuracy: 0.4988 - val_loss: 0.6931 - val_accuracy: 0.5002\n",
      "Epoch 5/10\n",
      "391/391 [==============================] - 88s 225ms/step - loss: 0.6947 - accuracy: 0.5040 - val_loss: 0.6934 - val_accuracy: 0.4936\n",
      "Epoch 6/10\n",
      "391/391 [==============================] - 88s 226ms/step - loss: 0.6949 - accuracy: 0.5007 - val_loss: 0.6939 - val_accuracy: 0.5002\n",
      "Epoch 7/10\n",
      "391/391 [==============================] - 91s 232ms/step - loss: 0.6947 - accuracy: 0.4983 - val_loss: 0.6944 - val_accuracy: 0.4998\n",
      "Epoch 8/10\n",
      "391/391 [==============================] - 90s 230ms/step - loss: 0.6946 - accuracy: 0.5022 - val_loss: 0.6928 - val_accuracy: 0.5089\n",
      "Epoch 9/10\n",
      "391/391 [==============================] - 90s 230ms/step - loss: 0.6945 - accuracy: 0.5038 - val_loss: 0.6934 - val_accuracy: 0.5002\n",
      "Epoch 10/10\n",
      "391/391 [==============================] - 90s 231ms/step - loss: 0.6934 - accuracy: 0.5139 - val_loss: 0.6969 - val_accuracy: 0.5042\n"
     ]
    }
   ],
   "source": [
    "RNN_model5 = Sequential(name=\"Simple_RNN\")\n",
    "RNN_model5.add(Embedding(vocab_size,embd_len,input_length=max_words))\n",
    "RNN_model5.add(SimpleRNN(128,activation='tanh',return_sequences=True))\n",
    "RNN_model5.add(SimpleRNN(128,activation='tanh',return_sequences=False))\n",
    "RNN_model5.add(Dense(1, activation='sigmoid'))\n",
    "\n",
    "RNN_model5.compile(loss=\"binary_crossentropy\",optimizer='adam',metrics=['accuracy'])\n",
    "history5 = RNN_model5.fit(x_train, y_train,batch_size=batch_size,epochs=ep,\n",
    "                          validation_data=(x_test, y_test))"
   ]
  },
  {
   "cell_type": "markdown",
   "id": "08a02c01",
   "metadata": {},
   "source": [
    "[Back to table of contents](#toc)"
   ]
  },
  {
   "cell_type": "markdown",
   "id": "d1f2df52",
   "metadata": {},
   "source": [
    "## Comparison  <a class=\"anchor\" id=\"compare\"></a>"
   ]
  },
  {
   "cell_type": "code",
   "execution_count": 23,
   "id": "81e1d9e8",
   "metadata": {},
   "outputs": [
    {
     "name": "stdout",
     "output_type": "stream",
     "text": [
      "391/391 [==============================] - 11s 28ms/step - loss: 0.6932 - accuracy: 0.5057\n"
     ]
    }
   ],
   "source": [
    "loss_1, acc_1 = RNN_model1.evaluate(x_test, y_test, batch_size=batch_size)"
   ]
  },
  {
   "cell_type": "code",
   "execution_count": 24,
   "id": "59d9b41a",
   "metadata": {},
   "outputs": [
    {
     "name": "stdout",
     "output_type": "stream",
     "text": [
      "391/391 [==============================] - 11s 28ms/step - loss: 0.6935 - accuracy: 0.5040\n"
     ]
    }
   ],
   "source": [
    "loss_2, acc_2 = RNN_model2.evaluate(x_test, y_test, batch_size=batch_size)"
   ]
  },
  {
   "cell_type": "code",
   "execution_count": 25,
   "id": "8fdf4f9e",
   "metadata": {},
   "outputs": [
    {
     "name": "stdout",
     "output_type": "stream",
     "text": [
      "391/391 [==============================] - 12s 31ms/step - loss: nan - accuracy: 0.5000\n"
     ]
    }
   ],
   "source": [
    "loss_3, acc_3 = RNN_model3.evaluate(x_test, y_test, batch_size=batch_size)"
   ]
  },
  {
   "cell_type": "code",
   "execution_count": 26,
   "id": "6f5ce58a",
   "metadata": {},
   "outputs": [
    {
     "name": "stdout",
     "output_type": "stream",
     "text": [
      "391/391 [==============================] - 11s 27ms/step - loss: 0.6932 - accuracy: 0.5057\n"
     ]
    }
   ],
   "source": [
    "loss_4, acc_4 = RNN_model1.evaluate(x_test, y_test, batch_size=batch_size)"
   ]
  },
  {
   "cell_type": "code",
   "execution_count": 27,
   "id": "fbe9982a",
   "metadata": {},
   "outputs": [
    {
     "name": "stdout",
     "output_type": "stream",
     "text": [
      "391/391 [==============================] - 11s 27ms/step - loss: 0.6932 - accuracy: 0.5057\n"
     ]
    }
   ],
   "source": [
    "loss_5, acc_5 = RNN_model1.evaluate(x_test, y_test, batch_size=batch_size)"
   ]
  },
  {
   "cell_type": "code",
   "execution_count": 28,
   "id": "8ba62da8",
   "metadata": {},
   "outputs": [
    {
     "name": "stdout",
     "output_type": "stream",
     "text": [
      "1. Basic\n",
      "Train accuracy: 53.0%\n",
      "Test accuracy: 50.6%\n",
      "\n",
      "2. Change optimizer: sgd\n",
      "Train accuracy: 51.4%\n",
      "Test accuracy: 50.4%\n",
      "\n",
      "3. Change activation function: relu\n",
      "Train accuracy: 50.0%\n",
      "Test accuracy: 50.0%\n",
      "\n",
      "4. Change embedding value\n",
      "Train accuracy: 53.7%\n",
      "Test accuracy: 50.6%\n",
      "\n",
      "5. Two RNN layer\n",
      "Train accuracy: 51.4%\n",
      "Test accuracy: 50.6%\n",
      "\n"
     ]
    }
   ],
   "source": [
    "print('1. Basic')\n",
    "print(\"Train accuracy: %.1f%%\" % (100.0 * history1.history['accuracy'][-1]))\n",
    "print(\"Test accuracy: %.1f%%\\n\" % (100.0 * acc_1))\n",
    "print('2. Change optimizer: sgd')\n",
    "print(\"Train accuracy: %.1f%%\" % (100.0 * history2.history['accuracy'][-1]))\n",
    "print(\"Test accuracy: %.1f%%\\n\" % (100.0 * acc_2))\n",
    "print('3. Change activation function: relu')\n",
    "print(\"Train accuracy: %.1f%%\" % (100.0 * history3.history['accuracy'][-1]))\n",
    "print(\"Test accuracy: %.1f%%\\n\" % (100.0 * acc_3))\n",
    "print('4. Change embedding value')\n",
    "print(\"Train accuracy: %.1f%%\" % (100.0 * history4.history['accuracy'][-1]))\n",
    "print(\"Test accuracy: %.1f%%\\n\" % (100.0 * acc_4))\n",
    "print('5. Two RNN layer')\n",
    "print(\"Train accuracy: %.1f%%\" % (100.0 * history5.history['accuracy'][-1]))\n",
    "print(\"Test accuracy: %.1f%%\\n\" % (100.0 * acc_5))\n"
   ]
  },
  {
   "cell_type": "code",
   "execution_count": 29,
   "id": "2b408caf",
   "metadata": {},
   "outputs": [
    {
     "data": {
      "image/png": "[encoded data removed]",
      "text/plain": [
       "<Figure size 640x480 with 6 Axes>"
      ]
     },
     "metadata": {},
     "output_type": "display_data"
    }
   ],
   "source": [
    "fig, ax = plt.subplots(3, 2,sharey='all')\n",
    "fig.suptitle('')\n",
    "ax[0,0].plot(history1.history['accuracy'], 'blue')\n",
    "ax[0,0].plot(history1.history['val_accuracy'], 'green')\n",
    "ax[0,0].set_title('basic')\n",
    "\n",
    "ax[0,1].plot(history2.history['accuracy'], 'blue')\n",
    "ax[0,1].plot(history2.history['val_accuracy'], 'green')\n",
    "ax[0,1].set_title('optimizer sgd')\n",
    "ax[1,0].plot(history3.history['accuracy'], 'blue')\n",
    "ax[1,0].plot(history3.history['val_accuracy'], 'green')\n",
    "ax[1,0].set_title('activation relu')\n",
    "ax[1,1].plot(history4.history['accuracy'], 'blue')\n",
    "ax[1,1].plot(history4.history['val_accuracy'], 'green')\n",
    "ax[1,1].set_title('different embedding value')\n",
    "ax[2,0].plot(history5.history['accuracy'], 'blue')\n",
    "ax[2,0].plot(history5.history['val_accuracy'], 'green')\n",
    "ax[2,0].set_title('two rnn')\n",
    "\n",
    "\n",
    "fig.legend(['train acc', 'val acc'], fontsize=6)\n",
    "\n",
    "for ax in fig.get_axes():\n",
    "    ax.label_outer()"
   ]
  },
  {
   "cell_type": "markdown",
   "id": "4a196b90",
   "metadata": {},
   "source": [
    "[Back to table of contents](#toc)"
   ]
  },
  {
   "cell_type": "code",
   "execution_count": null,
   "id": "8138d6a6",
   "metadata": {},
   "outputs": [],
   "source": []
  }
 ],
 "metadata": {
  "kernelspec": {
   "display_name": "Python 3 (ipykernel)",
   "language": "python",
   "name": "python3"
  },
  "language_info": {
   "codemirror_mode": {
    "name": "ipython",
    "version": 3
   },
   "file_extension": ".py",
   "mimetype": "text/x-python",
   "name": "python",
   "nbconvert_exporter": "python",
   "pygments_lexer": "ipython3",
   "version": "3.9.13"
  }
 },
 "nbformat": 4,
 "nbformat_minor": 5
}
