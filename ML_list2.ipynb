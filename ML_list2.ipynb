{
 "cells": [
  {
   "cell_type": "markdown",
   "metadata": {},
   "source": [
    "##### Agnieszka Marciszewska"
   ]
  },
  {
   "cell_type": "markdown",
   "metadata": {},
   "source": [
    "# Machine Learning\n",
    "## Assigment 2\n",
    "##### http://prac.im.pwr.edu.pl/~bdyda/sem2022zimowy/ml.phtml"
   ]
  },
  {
   "cell_type": "code",
   "execution_count": 1,
   "metadata": {},
   "outputs": [],
   "source": [
    "import pickle\n",
    "import gzip\n",
    "import numpy as np\n",
    "from matplotlib import pyplot as plt\n",
    "import random"
   ]
  },
  {
   "cell_type": "markdown",
   "metadata": {},
   "source": [
    "##### Download and prepare data"
   ]
  },
  {
   "cell_type": "code",
   "execution_count": 2,
   "metadata": {},
   "outputs": [],
   "source": [
    "# %load mnist_loader.py\n",
    "\"\"\"\n",
    "mnist_loader\n",
    "~~~~~~~~~~~~\n",
    "A library to load the MNIST image data.  For details of the data\n",
    "structures that are returned, see the doc strings for ``load_data``\n",
    "and ``load_data_wrapper``.  In practice, ``load_data_wrapper`` is the\n",
    "function usually called by our neural network code.\n",
    "\"\"\"\n",
    "\n",
    "#### Libraries\n",
    "# Standard library\n",
    "\n",
    "def load_data():\n",
    "    \"\"\"Return the MNIST data as a tuple containing the training data,\n",
    "    the validation data, and the test data.\n",
    "    The ``training_data`` is returned as a tuple with two entries.\n",
    "    The first entry contains the actual training images.  This is a\n",
    "    numpy ndarray with 50,000 entries.  Each entry is, in turn, a\n",
    "    numpy ndarray with 784 values, representing the 28 * 28 = 784\n",
    "    pixels in a single MNIST image.\n",
    "    The second entry in the ``training_data`` tuple is a numpy ndarray\n",
    "    containing 50,000 entries.  Those entries are just the digit\n",
    "    values (0...9) for the corresponding images contained in the first\n",
    "    entry of the tuple.\n",
    "    The ``validation_data`` and ``test_data`` are similar, except\n",
    "    each contains only 10,000 images.\n",
    "    This is a nice data format, but for use in neural networks it's\n",
    "    helpful to modify the format of the ``training_data`` a little.\n",
    "    That's done in the wrapper function ``load_data_wrapper()``, see\n",
    "    below.\n",
    "    \"\"\"\n",
    "    f = gzip.open('mnist.pkl.gz', 'rb')\n",
    "    training_data, validation_data, test_data = pickle.load(f, encoding=\"latin1\")\n",
    "    f.close()\n",
    "    return (training_data, validation_data, test_data)\n",
    "\n",
    "def load_data_wrapper():\n",
    "    \"\"\"Return a tuple containing ``(training_data, validation_data,\n",
    "    test_data)``. Based on ``load_data``, but the format is more\n",
    "    convenient for use in our implementation of neural networks.\n",
    "    In particular, ``training_data`` is a list containing 50,000\n",
    "    2-tuples ``(x, y)``.  ``x`` is a 784-dimensional numpy.ndarray\n",
    "    containing the input image.  ``y`` is a 10-dimensional\n",
    "    numpy.ndarray representing the unit vector corresponding to the\n",
    "    correct digit for ``x``.\n",
    "    ``validation_data`` and ``test_data`` are lists containing 10,000\n",
    "    2-tuples ``(x, y)``.  In each case, ``x`` is a 784-dimensional\n",
    "    numpy.ndarry containing the input image, and ``y`` is the\n",
    "    corresponding classification, i.e., the digit values (integers)\n",
    "    corresponding to ``x``.\n",
    "    Obviously, this means we're using slightly different formats for\n",
    "    the training data and the validation / test data.  These formats\n",
    "    turn out to be the most convenient for use in our neural network\n",
    "    code.\"\"\"\n",
    "    tr_d, va_d, te_d = load_data()\n",
    "    training_inputs = [np.reshape(x, (784, 1)) for x in tr_d[0]]\n",
    "    training_results = [vectorized_result(y) for y in tr_d[1]]\n",
    "    training_data = zip(training_inputs, training_results)\n",
    "    validation_inputs = [np.reshape(x, (784, 1)) for x in va_d[0]]\n",
    "    validation_data = zip(validation_inputs, va_d[1])\n",
    "    test_inputs = [np.reshape(x, (784, 1)) for x in te_d[0]]\n",
    "    test_data = zip(test_inputs, te_d[1])\n",
    "    return (training_data, validation_data, test_data)\n",
    "\n",
    "def vectorized_result(j):\n",
    "    \"\"\"Return a 10-dimensional unit vector with a 1.0 in the jth\n",
    "    position and zeroes elsewhere.  This is used to convert a digit\n",
    "    (0...9) into a corresponding desired output from the neural\n",
    "    network.\"\"\"\n",
    "    e = np.zeros((10, 1))\n",
    "    e[j] = 1.0\n",
    "    return e\n"
   ]
  },
  {
   "cell_type": "code",
   "execution_count": 4,
   "metadata": {},
   "outputs": [],
   "source": [
    "training_data, validation_data, test_data = load_data_wrapper()"
   ]
  },
  {
   "cell_type": "code",
   "execution_count": 7,
   "metadata": {},
   "outputs": [],
   "source": [
    "num_of_input = 50000\n",
    "\n",
    "train_d = list(training_data)\n",
    "x_train = [train_d[i][0] for i in range(num_of_input)]\n",
    "y_train = [train_d[i][1] for i in range(num_of_input)]\n",
    "\n",
    "x_train=np.array(x_train)\n",
    "x_train = x_train[:, :, 0]\n",
    "x_train = x_train.T\n",
    "\n",
    "y_train=np.array(y_train)\n",
    "y_train = y_train[:, :, 0]\n",
    "y_train=y_train.T\n",
    "\n",
    "x_train = x_train[:,0:num_of_input]\n",
    "y_train = y_train[:,0:num_of_input]\n",
    "\n",
    "test_d = list(test_data)\n",
    "x_test = [test_d[i][0] for i in range(10000)]\n",
    "y_test = [test_d[i][1] for i in range(10000)]\n",
    "\n",
    "x_test=np.array(x_test)\n",
    "x_test = x_test[:, :, 0]\n",
    "x_test = x_test.T\n",
    "\n",
    "y_test=np.array(y_test)\n",
    "y_test = np.reshape(y_test, (-1, 1))"
   ]
  },
  {
   "cell_type": "markdown",
   "metadata": {},
   "source": [
    "#### Functions to forward and back propagation"
   ]
  },
  {
   "cell_type": "code",
   "execution_count": 9,
   "metadata": {},
   "outputs": [],
   "source": [
    "def sigmoid(x):\n",
    "    '''A sigmoid function which can be taken as activation function.\n",
    "       Function return value 1/(1+np.exp(-x)) of input x, where value in (0,1).'''\n",
    "    return 1/(1+np.exp(-x))\n",
    "\n",
    "def d_sigmoid(x):\n",
    "    ''' Function return derivative of sigmoid function.'''\n",
    "    f_x = sigmoid(x)\n",
    "    return f_x*(1-f_x)\n",
    "\n",
    "def softmax(x):\n",
    "    '''A softmax function which can be taken as activation function for last layer.'''\n",
    "    exp = np.exp(x)\n",
    "    return exp/np.sum(exp,axis=0)"
   ]
  },
  {
   "cell_type": "markdown",
   "metadata": {},
   "source": [
    "#### Function with forward and back propagation scheme"
   ]
  },
  {
   "cell_type": "code",
   "execution_count": 54,
   "metadata": {},
   "outputs": [],
   "source": [
    "def forward_propagation(W,X,num):\n",
    "    ''' Function with forward propagation scheme.\n",
    "        input:\n",
    "            W - list with weights,\n",
    "            X - set of inputs,\n",
    "            num - number of hidden layers\n",
    "        output:\n",
    "            next_a - list with outputs for next layers \n",
    "            next_net - list with results of multiplication of matrix of weight (W) and matrix of values (X)\n",
    "            next_X - list with values for layers with a bias\n",
    "        '''\n",
    "    next_X = []\n",
    "    next_X.append(X)\n",
    "    next_a = []\n",
    "    next_net = []\n",
    "    for i in range(num):\n",
    "        _,n = X.shape\n",
    "        X_i = np.vstack((np.ones((1,n)),X))\n",
    "        net_i = W[i] @ X_i\n",
    "        a_i = sigmoid(net_i)\n",
    "        X = a_i\n",
    "        next_a.append(a_i)\n",
    "        next_net.append(net_i)    \n",
    "        next_X.append(X_i)\n",
    "        \n",
    "    X = next_a[-1]\n",
    "    _,n = X.shape\n",
    "    X_last = np.vstack((np.ones((1,n)),X))\n",
    "    net_last = W[-1] @ X_last\n",
    "    a_last = softmax(net_last)\n",
    "    next_a.append(a_last)\n",
    "    next_net.append(net_last)    \n",
    "    next_X.append(X_last)\n",
    "    \n",
    "    return next_a,next_net,next_X\n",
    "\n"
   ]
  },
  {
   "cell_type": "code",
   "execution_count": 11,
   "metadata": {},
   "outputs": [],
   "source": [
    "def back_propagation(W, next_a, next_net, next_X, y, num, num_of_input, c=0.1):\n",
    "    ''' Function with backward propagation scheme\n",
    "        input:\n",
    "            W - list with weights,\n",
    "            next_a - list with outputs for next layers ,\n",
    "            next_net - list with results of multiplication of matrix of weight (W) and matrix of values (X),\n",
    "            next_X - list with values for layers with a bias,\n",
    "            y - set of correct outputs,\n",
    "            num - number of hidden layers\n",
    "            num_of_input - number of inputs,\n",
    "            c - earning rate \n",
    "        output:\n",
    "            W - list with updated weights.\n",
    "        '''\n",
    "    delta_last = next_a[num]-y\n",
    "    dW_last = 1 / num_of_input * delta_last @ next_X[num+1].T\n",
    "    dX_last = 1 / num_of_input * W[num].T @ delta_last\n",
    "    W[num] = W[num] - c * dW_last\n",
    "    for i in range(num-1,-1,-1):\n",
    "        da = dX_last[1:,:]\n",
    "        delta = da * d_sigmoid(next_net[i])\n",
    "        dW = delta @ next_X[i+1].T\n",
    "        dX = 1 / num_of_input * W[i].T @ delta\n",
    "        dX_last = dX\n",
    "        W[i] = W[i] - c * dW\n",
    "    \n",
    "    return W"
   ]
  },
  {
   "cell_type": "markdown",
   "metadata": {},
   "source": [
    "#### Functions to learn the neaural networks and show results"
   ]
  },
  {
   "cell_type": "code",
   "execution_count": 77,
   "metadata": {},
   "outputs": [],
   "source": [
    "def learn(X,Y,layer,num_ep):\n",
    "    ''' Function generates weights with random values and num_ep-times calls \n",
    "        functions forward_propagation and backward_propagation and updates weights.\n",
    "    input:\n",
    "        X - set of inputs,\n",
    "        Y - set of outputs,\n",
    "        layer - list with numbers of neurons in hidden layers\n",
    "        num_ep - number of epochs\n",
    "    output:\n",
    "        W - list with updated weights for a model.\n",
    "    '''\n",
    "    #initialize weights\n",
    "    W = []\n",
    "\n",
    "    m, n = X.shape \n",
    "    k, _ = Y.shape \n",
    "    W.append(np.random.normal(0, 2/np.sqrt(m+1),(layer[0],m+1)))\n",
    "    num = len(layer) #number of hidden layers, if there are more than 1, we add them in the loop\n",
    "    for i in range(1,num):\n",
    "            W.append(np.random.normal(0, 2/np.sqrt(layer[i]+1),(layer[i],layer[i-1]+1)))\n",
    "    W.append(np.random.normal(0, 2/np.sqrt(layer[-1]+1),(k,layer[-1]+1)))\n",
    "    \n",
    "    #learning num_iter times   \n",
    "    for i in range(num_ep):\n",
    "        next_a,next_net,next_X = forward_propagation(W, X,num)\n",
    "        W = back_propagation(W, next_a, next_net, next_X, Y, num, n)\n",
    "        \n",
    "        if i % 100 == 0:  #every 100 iterations we check the accuracy\n",
    "            acc = get_number_of_same_a(next_a[-1],Y)\n",
    "            if i == 0:\n",
    "                print('Epoch: 1, accuracy: ',acc/n)\n",
    "            else:\n",
    "                print('Epoch:',i,', accuracy: ',acc/n)\n",
    "    acc = get_number_of_same_a(next_a[-1],Y)\n",
    "    print('Epoch:',num_ep,', accuracy: ',acc/n)\n",
    "    return W"
   ]
  },
  {
   "cell_type": "code",
   "execution_count": 69,
   "metadata": {},
   "outputs": [],
   "source": [
    "def predict(W, X):\n",
    "    ''' The function return predict value for input values.\n",
    "        input: \n",
    "            W - weights of learned model,\n",
    "            X - set of inputs,\n",
    "        output:\n",
    "            predict_value - predict value for input values\n",
    "    '''\n",
    "    next_a, _, _ = forward_propagation(W,X,len(W)-1) # number of hidden layer = number of weights - 1\n",
    "    predict_value = np.argmax(next_a[-1],axis = 0)\n",
    "    return predict_value\n",
    "\n",
    "def get_acc_test(W,X,Y):\n",
    "    '''The function returns the accuracy of the model for a given set of test inputs.\n",
    "       input: \n",
    "           W - weights of learned model,\n",
    "           X - set of test inputs,\n",
    "       output:\n",
    "           accuracy - accuracy of the model\n",
    "    '''\n",
    "    predict_values = predict(W, X)\n",
    "    Y = np.argmax(Y,axis=0)\n",
    "    accuracy = np.sum(predict_values == Y)/len(Y)\n",
    "    print(\"The accuracy of the model for a given set of test inputs: \",accuracy)\n",
    "\n",
    "\n",
    "def compare(num_of_input_X,W):\n",
    "    '''The function prints the predicted value and correct one.\n",
    "       input: \n",
    "           W - weights of learned model,\n",
    "           num_of_input_X - number of set of inputs (number of the image in set),\n",
    "    '''\n",
    "    X =  x_test[:,num_of_input_X]\n",
    "    X = np.reshape(X, (-1, 1))\n",
    "    predict_value = predict(W,X)\n",
    "    value = y_test[num_of_input_X]\n",
    "    print('Correct value: ',int(value))\n",
    "    print('Predicted value: ',int(predict_value))\n",
    "    X_image = X.reshape((28, 28)) * 255\n",
    "    plt.gray()\n",
    "    plt.imshow(X_image, interpolation='nearest')\n",
    "    plt.show()\n",
    "    \n",
    "def get_number_of_same_a(a,Y):\n",
    "    '''The function returns the number of correct predicted values.\n",
    "       input: \n",
    "           a - predicted values ,\n",
    "           Y - correct values,\n",
    "       output:\n",
    "           num - number of correct predicted values \n",
    "    '''\n",
    "    predict_value = np.argmax(a,axis = 0)\n",
    "    y = np.argmax(Y,axis = 0)\n",
    "    num = np.sum(predict_value == y)\n",
    "    return num"
   ]
  },
  {
   "cell_type": "markdown",
   "metadata": {},
   "source": [
    "#### Examples:"
   ]
  },
  {
   "cell_type": "code",
   "execution_count": 79,
   "metadata": {},
   "outputs": [
    {
     "name": "stdout",
     "output_type": "stream",
     "text": [
      "Epoch: 1, accuracy:  0.09286\n",
      "Epoch: 100 , accuracy:  0.76796\n",
      "Epoch: 200 , accuracy:  0.83116\n",
      "Epoch: 300 , accuracy:  0.85496\n",
      "Epoch: 400 , accuracy:  0.86796\n",
      "Epoch: 500 , accuracy:  0.87634\n",
      "Epoch: 600 , accuracy:  0.88212\n",
      "Epoch: 700 , accuracy:  0.8864\n",
      "Epoch: 800 , accuracy:  0.88982\n",
      "Epoch: 900 , accuracy:  0.89322\n",
      "Epoch: 1000 , accuracy:  0.89576\n"
     ]
    }
   ],
   "source": [
    "model1 = learn(x_train,y_train,[64],1000)"
   ]
  },
  {
   "cell_type": "code",
   "execution_count": 82,
   "metadata": {},
   "outputs": [
    {
     "name": "stdout",
     "output_type": "stream",
     "text": [
      "The accuracy of the model for a given set of test inputs:  0.89578\n"
     ]
    }
   ],
   "source": [
    "get_acc_test(model1,x_train,y_train)"
   ]
  },
  {
   "cell_type": "code",
   "execution_count": 83,
   "metadata": {},
   "outputs": [
    {
     "name": "stdout",
     "output_type": "stream",
     "text": [
      "Correct value:  4\n",
      "Predicted value:  4\n"
     ]
    },
    {
     "data": {
      "image/png": "[encoded data removed]",
      "text/plain": [
       "<Figure size 640x480 with 1 Axes>"
      ]
     },
     "metadata": {},
     "output_type": "display_data"
    }
   ],
   "source": [
    "compare(6,model1)"
   ]
  },
  {
   "cell_type": "code",
   "execution_count": 84,
   "metadata": {},
   "outputs": [
    {
     "name": "stdout",
     "output_type": "stream",
     "text": [
      "Correct value:  6\n",
      "Predicted value:  6\n"
     ]
    },
    {
     "data": {
      "image/png": "[encoded data removed]",
      "text/plain": [
       "<Figure size 640x480 with 1 Axes>"
      ]
     },
     "metadata": {},
     "output_type": "display_data"
    }
   ],
   "source": [
    "compare(54,model1)"
   ]
  },
  {
   "cell_type": "code",
   "execution_count": null,
   "metadata": {},
   "outputs": [],
   "source": []
  }
 ],
 "metadata": {
  "kernelspec": {
   "display_name": "Python 3 (ipykernel)",
   "language": "python",
   "name": "python3"
  },
  "language_info": {
   "codemirror_mode": {
    "name": "ipython",
    "version": 3
   },
   "file_extension": ".py",
   "mimetype": "text/x-python",
   "name": "python",
   "nbconvert_exporter": "python",
   "pygments_lexer": "ipython3",
   "version": "3.9.13"
  }
 },
 "nbformat": 4,
 "nbformat_minor": 2
}
