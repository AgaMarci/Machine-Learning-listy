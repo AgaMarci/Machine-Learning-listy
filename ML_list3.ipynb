{
 "cells": [
  {
   "cell_type": "markdown",
   "id": "e9dfe9ea",
   "metadata": {},
   "source": [
    "##### Agnieszka Marciszewska"
   ]
  },
  {
   "cell_type": "markdown",
   "id": "7937b2c9",
   "metadata": {},
   "source": [
    "# Machine Learning\n",
    "## Assigment 3\n",
    "#### Perform some experiments with convolutional neural networks, for example using Keras."
   ]
  },
  {
   "cell_type": "code",
   "execution_count": 45,
   "id": "b4d1e28b",
   "metadata": {},
   "outputs": [],
   "source": [
    "import tensorflow as tf\n",
    "import numpy as np\n",
    "from tensorflow.keras.models import Sequential\n",
    "from tensorflow.keras.layers import Conv2D, MaxPooling2D, Dense, Flatten, Dropout\n",
    "import matplotlib.pyplot as plt"
   ]
  },
  {
   "cell_type": "markdown",
   "id": "224b4035",
   "metadata": {},
   "source": [
    "#### Table of contents: <a class=\"anchor\" id=\"toc\"></a>\n",
    "* [Download and prepare data](#data)\n",
    "* [Model1](#model1) \n",
    "** [Change optimizer](#model11)\n",
    "** [Change activation function](#model12)\n",
    "** [Change padding](#model13)\n",
    "** [Add more batches](#model14)\n",
    "** [Change kernel](#model15)\n",
    "** [Comparision](#model1_compare)\n",
    "* [Adding more layers, changing layer settings](#modele25)\n",
    "** [Model2 - 2 convolutions layer](#model2)\n",
    "** [Model3 - 3 convolutions layer](#model3)\n",
    "** [Model4 - 2 convolutions layer, fully connected layer, dropout](#model4)\n",
    "** [Model5 - fully connected layer, dropout](#model5)\n",
    "** [Compariosn models 2-5](#compare25)"
   ]
  },
  {
   "cell_type": "markdown",
   "id": "b1fe5e97",
   "metadata": {},
   "source": [
    "## FASHION MNIST DATASET "
   ]
  },
  {
   "cell_type": "markdown",
   "id": "cda9f7f8",
   "metadata": {},
   "source": [
    "## Download and prepare data  <a class=\"anchor\" id=\"data\"></a>"
   ]
  },
  {
   "cell_type": "code",
   "execution_count": 2,
   "id": "978c1ee5",
   "metadata": {},
   "outputs": [],
   "source": [
    "(x_train, y_train), (x_test, y_test) = tf.keras.datasets.fashion_mnist.load_data()"
   ]
  },
  {
   "cell_type": "code",
   "execution_count": 3,
   "id": "61ca8c7a",
   "metadata": {},
   "outputs": [
    {
     "data": {
      "text/plain": [
       "(60000, 28, 28)"
      ]
     },
     "execution_count": 3,
     "metadata": {},
     "output_type": "execute_result"
    }
   ],
   "source": [
    "x_train.shape"
   ]
  },
  {
   "cell_type": "code",
   "execution_count": 4,
   "id": "285facdb",
   "metadata": {},
   "outputs": [
    {
     "data": {
      "text/plain": [
       "(10000, 28, 28)"
      ]
     },
     "execution_count": 4,
     "metadata": {},
     "output_type": "execute_result"
    }
   ],
   "source": [
    "x_test.shape"
   ]
  },
  {
   "cell_type": "code",
   "execution_count": 5,
   "id": "45bed342",
   "metadata": {},
   "outputs": [],
   "source": [
    "x_train=x_train/255\n",
    "x_test=x_test/255"
   ]
  },
  {
   "cell_type": "code",
   "execution_count": 6,
   "id": "3316e4fc",
   "metadata": {},
   "outputs": [],
   "source": [
    "y_train = tf.one_hot(y_train.astype(np.int32), depth=10)\n",
    "y_test = tf.one_hot(y_test.astype(np.int32), depth=10)"
   ]
  },
  {
   "cell_type": "markdown",
   "id": "adaad80d",
   "metadata": {},
   "source": [
    "## Model 1 <a class=\"anchor\" id=\"model1\"></a>"
   ]
  },
  {
   "cell_type": "code",
   "execution_count": 7,
   "id": "6b3f2092",
   "metadata": {},
   "outputs": [],
   "source": [
    "batch_size = 64\n",
    "num_classes = 10\n",
    "epochs = 10\n",
    "input_shape = (28, 28,1)"
   ]
  },
  {
   "cell_type": "code",
   "execution_count": 8,
   "id": "991b8370",
   "metadata": {},
   "outputs": [],
   "source": [
    "x_train_1 = x_train[:]\n",
    "x_test_1 = x_test[:]\n",
    "\n",
    "y_train_1 = y_train[:] \n",
    "y_test_1 = y_test[:] "
   ]
  },
  {
   "cell_type": "code",
   "execution_count": 9,
   "id": "e2003a8e",
   "metadata": {},
   "outputs": [],
   "source": [
    "model_1 = Sequential([\n",
    "    Conv2D(32, (3,3), padding='same', activation='relu', input_shape=input_shape),\n",
    "    MaxPooling2D(pool_size=2),\n",
    "    Flatten(),\n",
    "    Dense(num_classes, activation='softmax')\n",
    "    ])\n",
    "\n",
    "model_1.compile(loss='categorical_crossentropy', \n",
    "              optimizer='adam',\n",
    "              metrics=['accuracy'])"
   ]
  },
  {
   "cell_type": "code",
   "execution_count": 10,
   "id": "a73fced1",
   "metadata": {},
   "outputs": [
    {
     "name": "stdout",
     "output_type": "stream",
     "text": [
      "Epoch 1/10\n",
      "938/938 [==============================] - 10s 10ms/step - loss: 0.4702 - accuracy: 0.8364 - val_loss: 0.3956 - val_accuracy: 0.8609\n",
      "Epoch 2/10\n",
      "938/938 [==============================] - 10s 10ms/step - loss: 0.3293 - accuracy: 0.8854 - val_loss: 0.3248 - val_accuracy: 0.8862\n",
      "Epoch 3/10\n",
      "938/938 [==============================] - 9s 10ms/step - loss: 0.2916 - accuracy: 0.8974 - val_loss: 0.3182 - val_accuracy: 0.8852\n",
      "Epoch 4/10\n",
      "938/938 [==============================] - 9s 10ms/step - loss: 0.2714 - accuracy: 0.9037 - val_loss: 0.3032 - val_accuracy: 0.8890\n",
      "Epoch 5/10\n",
      "938/938 [==============================] - 9s 9ms/step - loss: 0.2534 - accuracy: 0.9096 - val_loss: 0.2885 - val_accuracy: 0.8989\n",
      "Epoch 6/10\n",
      "938/938 [==============================] - 10s 11ms/step - loss: 0.2400 - accuracy: 0.9147 - val_loss: 0.2931 - val_accuracy: 0.8950\n",
      "Epoch 7/10\n",
      "938/938 [==============================] - 9s 10ms/step - loss: 0.2284 - accuracy: 0.9188 - val_loss: 0.2758 - val_accuracy: 0.9028\n",
      "Epoch 8/10\n",
      "938/938 [==============================] - 9s 9ms/step - loss: 0.2179 - accuracy: 0.9223 - val_loss: 0.2804 - val_accuracy: 0.9017\n",
      "Epoch 9/10\n",
      "938/938 [==============================] - 9s 10ms/step - loss: 0.2079 - accuracy: 0.9255 - val_loss: 0.2760 - val_accuracy: 0.9029\n",
      "Epoch 10/10\n",
      "938/938 [==============================] - 9s 9ms/step - loss: 0.1988 - accuracy: 0.9292 - val_loss: 0.2733 - val_accuracy: 0.9040\n"
     ]
    }
   ],
   "source": [
    "history_1 = model_1.fit(x_train_1, y_train_1,\n",
    "                        epochs=epochs, \n",
    "                        batch_size=batch_size,\n",
    "                        validation_data=(x_test_1, y_test_1))"
   ]
  },
  {
   "cell_type": "code",
   "execution_count": 11,
   "id": "a017799d",
   "metadata": {},
   "outputs": [
    {
     "name": "stdout",
     "output_type": "stream",
     "text": [
      "157/157 [==============================] - 0s 3ms/step - loss: 0.2733 - accuracy: 0.9040\n",
      "\n",
      "Test accuracy: 90.4%\n"
     ]
    }
   ],
   "source": [
    "loss_1, acc_1 = model_1.evaluate(x_test_1, y_test_1, batch_size=batch_size)\n",
    "print(\"\\nTest accuracy: %.1f%%\" % (100.0 * acc_1))"
   ]
  },
  {
   "cell_type": "markdown",
   "id": "969458a5",
   "metadata": {},
   "source": [
    "[Back to table of contents](#toc)"
   ]
  },
  {
   "cell_type": "markdown",
   "id": "8f6a6e6e",
   "metadata": {},
   "source": [
    "#### Model 1.1\n",
    "##### change optimizer  <a class=\"anchor\" id=\"model11\"></a>"
   ]
  },
  {
   "cell_type": "code",
   "execution_count": 12,
   "id": "a8f0606d",
   "metadata": {},
   "outputs": [],
   "source": [
    "x_train_1_1 = x_train[:]\n",
    "x_test_1_1 = x_test[:]\n",
    "\n",
    "y_train_1_1 = y_train[:] \n",
    "y_test_1_1 = y_test[:] "
   ]
  },
  {
   "cell_type": "code",
   "execution_count": 13,
   "id": "75051f00",
   "metadata": {},
   "outputs": [],
   "source": [
    "model_1_1 = Sequential([\n",
    "    Conv2D(32, (3,3), padding='same', activation='relu', input_shape=input_shape),\n",
    "    MaxPooling2D(pool_size=2),\n",
    "    Flatten(),\n",
    "    Dense(num_classes, activation='softmax')\n",
    "    ])\n",
    "\n",
    "model_1_1.compile(loss='categorical_crossentropy', \n",
    "              optimizer='sgd',\n",
    "              metrics=['accuracy'])"
   ]
  },
  {
   "cell_type": "code",
   "execution_count": 14,
   "id": "54e0122d",
   "metadata": {},
   "outputs": [
    {
     "name": "stdout",
     "output_type": "stream",
     "text": [
      "Epoch 1/10\n",
      "938/938 [==============================] - 9s 9ms/step - loss: 0.8195 - accuracy: 0.7309 - val_loss: 0.5961 - val_accuracy: 0.7851\n",
      "Epoch 2/10\n",
      "938/938 [==============================] - 9s 9ms/step - loss: 0.5375 - accuracy: 0.8103 - val_loss: 0.5789 - val_accuracy: 0.7810\n",
      "Epoch 3/10\n",
      "938/938 [==============================] - 9s 9ms/step - loss: 0.4970 - accuracy: 0.8261 - val_loss: 0.5109 - val_accuracy: 0.8156\n",
      "Epoch 4/10\n",
      "938/938 [==============================] - 9s 10ms/step - loss: 0.4742 - accuracy: 0.8337 - val_loss: 0.6454 - val_accuracy: 0.7707\n",
      "Epoch 5/10\n",
      "938/938 [==============================] - 9s 10ms/step - loss: 0.4539 - accuracy: 0.8413 - val_loss: 0.4790 - val_accuracy: 0.8333\n",
      "Epoch 6/10\n",
      "938/938 [==============================] - 9s 10ms/step - loss: 0.4408 - accuracy: 0.8461 - val_loss: 0.4762 - val_accuracy: 0.8319\n",
      "Epoch 7/10\n",
      "938/938 [==============================] - 9s 10ms/step - loss: 0.4267 - accuracy: 0.8532 - val_loss: 0.4490 - val_accuracy: 0.8412\n",
      "Epoch 8/10\n",
      "938/938 [==============================] - 10s 10ms/step - loss: 0.4169 - accuracy: 0.8556 - val_loss: 0.4304 - val_accuracy: 0.8486\n",
      "Epoch 9/10\n",
      "938/938 [==============================] - 9s 10ms/step - loss: 0.4044 - accuracy: 0.8604 - val_loss: 0.4243 - val_accuracy: 0.8497\n",
      "Epoch 10/10\n",
      "938/938 [==============================] - 10s 11ms/step - loss: 0.3951 - accuracy: 0.8629 - val_loss: 0.4413 - val_accuracy: 0.8413\n"
     ]
    }
   ],
   "source": [
    "history_1_1 = model_1_1.fit(x_train_1_1, y_train_1_1,\n",
    "                        epochs=epochs, \n",
    "                        batch_size=batch_size,\n",
    "                        validation_data=(x_test_1_1, y_test_1_1))"
   ]
  },
  {
   "cell_type": "code",
   "execution_count": 15,
   "id": "ef9c420e",
   "metadata": {},
   "outputs": [
    {
     "name": "stdout",
     "output_type": "stream",
     "text": [
      "157/157 [==============================] - 1s 5ms/step - loss: 0.4413 - accuracy: 0.8413\n",
      "\n",
      "Test accuracy: 84.1%\n"
     ]
    }
   ],
   "source": [
    "loss_1_1, acc_1_1 = model_1_1.evaluate(x_test_1_1, y_test_1_1, batch_size=batch_size)\n",
    "print(\"\\nTest accuracy: %.1f%%\" % (100.0 * acc_1_1))"
   ]
  },
  {
   "cell_type": "markdown",
   "id": "8a3c724b",
   "metadata": {},
   "source": [
    "[Back to table of contents](#toc)"
   ]
  },
  {
   "cell_type": "markdown",
   "id": "32dfaa9d",
   "metadata": {},
   "source": [
    "#### Model 1.2\n",
    "##### change activation function (to sigmoid)  <a class=\"anchor\" id=\"model12\"></a>"
   ]
  },
  {
   "cell_type": "code",
   "execution_count": 16,
   "id": "8b72ed2b",
   "metadata": {},
   "outputs": [],
   "source": [
    "x_train_1_2 = x_train[:]\n",
    "x_test_1_2 = x_test[:]\n",
    "\n",
    "y_train_1_2 = y_train[:] \n",
    "y_test_1_2 = y_test[:] "
   ]
  },
  {
   "cell_type": "code",
   "execution_count": 17,
   "id": "d842f211",
   "metadata": {},
   "outputs": [],
   "source": [
    "model_1_2 = Sequential([\n",
    "    Conv2D(32, (3,3), padding='same', activation='sigmoid', input_shape=input_shape),\n",
    "    MaxPooling2D(pool_size=2),\n",
    "    Flatten(),\n",
    "    Dense(num_classes, activation='softmax')\n",
    "    ])\n",
    "\n",
    "model_1_2.compile(loss='categorical_crossentropy', \n",
    "              optimizer='adam',\n",
    "              metrics=['accuracy'])"
   ]
  },
  {
   "cell_type": "code",
   "execution_count": 18,
   "id": "716980c5",
   "metadata": {},
   "outputs": [
    {
     "name": "stdout",
     "output_type": "stream",
     "text": [
      "Epoch 1/10\n",
      "938/938 [==============================] - 12s 12ms/step - loss: 0.9625 - accuracy: 0.6567 - val_loss: 0.6140 - val_accuracy: 0.7740\n",
      "Epoch 2/10\n",
      "938/938 [==============================] - 10s 10ms/step - loss: 0.5481 - accuracy: 0.8000 - val_loss: 0.5449 - val_accuracy: 0.7947\n",
      "Epoch 3/10\n",
      "938/938 [==============================] - 10s 11ms/step - loss: 0.4787 - accuracy: 0.8287 - val_loss: 0.5219 - val_accuracy: 0.8197\n",
      "Epoch 4/10\n",
      "938/938 [==============================] - 10s 11ms/step - loss: 0.4418 - accuracy: 0.8433 - val_loss: 0.4468 - val_accuracy: 0.8298\n",
      "Epoch 5/10\n",
      "938/938 [==============================] - 10s 10ms/step - loss: 0.4166 - accuracy: 0.8518 - val_loss: 0.4190 - val_accuracy: 0.8474\n",
      "Epoch 6/10\n",
      "938/938 [==============================] - 10s 11ms/step - loss: 0.3942 - accuracy: 0.8592 - val_loss: 0.3978 - val_accuracy: 0.8606\n",
      "Epoch 7/10\n",
      "938/938 [==============================] - 10s 10ms/step - loss: 0.3790 - accuracy: 0.8654 - val_loss: 0.4619 - val_accuracy: 0.8314\n",
      "Epoch 8/10\n",
      "938/938 [==============================] - 10s 11ms/step - loss: 0.3625 - accuracy: 0.8714 - val_loss: 0.4008 - val_accuracy: 0.8606\n",
      "Epoch 9/10\n",
      "938/938 [==============================] - 10s 11ms/step - loss: 0.3473 - accuracy: 0.8756 - val_loss: 0.3543 - val_accuracy: 0.8770\n",
      "Epoch 10/10\n",
      "938/938 [==============================] - 10s 11ms/step - loss: 0.3377 - accuracy: 0.8794 - val_loss: 0.4175 - val_accuracy: 0.8485\n"
     ]
    }
   ],
   "source": [
    "history_1_2 = model_1_2.fit(x_train_1_2, y_train_1_2,\n",
    "                        epochs=epochs, \n",
    "                        batch_size=batch_size,\n",
    "                        validation_data=(x_test_1_2, y_test_1_2))"
   ]
  },
  {
   "cell_type": "code",
   "execution_count": 19,
   "id": "79e5f93c",
   "metadata": {},
   "outputs": [
    {
     "name": "stdout",
     "output_type": "stream",
     "text": [
      "157/157 [==============================] - 0s 3ms/step - loss: 0.4175 - accuracy: 0.8485\n",
      "\n",
      "Test accuracy: 84.9%\n"
     ]
    }
   ],
   "source": [
    "loss_1_2, acc_1_2 = model_1_2.evaluate(x_test_1_2, y_test_1_2, batch_size=batch_size)\n",
    "print(\"\\nTest accuracy: %.1f%%\" % (100.0 * acc_1_2))"
   ]
  },
  {
   "cell_type": "markdown",
   "id": "698927cb",
   "metadata": {},
   "source": [
    "[Back to table of contents](#toc)"
   ]
  },
  {
   "cell_type": "markdown",
   "id": "589ceb1f",
   "metadata": {},
   "source": [
    "#### Model 1.3\n",
    "##### change padding  <a class=\"anchor\" id=\"model13\"></a>"
   ]
  },
  {
   "cell_type": "code",
   "execution_count": 20,
   "id": "d99981d8",
   "metadata": {},
   "outputs": [],
   "source": [
    "x_train_1_3 = x_train[:]\n",
    "x_test_1_3 = x_test[:]\n",
    "\n",
    "y_train_1_3 = y_train[:] \n",
    "y_test_1_3 = y_test[:] "
   ]
  },
  {
   "cell_type": "code",
   "execution_count": 21,
   "id": "e95c22e3",
   "metadata": {},
   "outputs": [],
   "source": [
    "model_1_3 = Sequential([\n",
    "    Conv2D(32, (3,3), padding='valid', activation='relu', input_shape=input_shape),\n",
    "    MaxPooling2D(pool_size=2),\n",
    "    Flatten(),\n",
    "    Dense(num_classes, activation='softmax')\n",
    "    ])\n",
    "\n",
    "model_1_3.compile(loss='categorical_crossentropy', \n",
    "              optimizer='adam',\n",
    "              metrics=['accuracy'])"
   ]
  },
  {
   "cell_type": "code",
   "execution_count": 22,
   "id": "1bdaebbc",
   "metadata": {},
   "outputs": [
    {
     "name": "stdout",
     "output_type": "stream",
     "text": [
      "Epoch 1/10\n",
      "938/938 [==============================] - 8s 8ms/step - loss: 0.4840 - accuracy: 0.8313 - val_loss: 0.3800 - val_accuracy: 0.8675\n",
      "Epoch 2/10\n",
      "938/938 [==============================] - 7s 8ms/step - loss: 0.3342 - accuracy: 0.8829 - val_loss: 0.3334 - val_accuracy: 0.8813\n",
      "Epoch 3/10\n",
      "938/938 [==============================] - 8s 9ms/step - loss: 0.2993 - accuracy: 0.8944 - val_loss: 0.3268 - val_accuracy: 0.8842\n",
      "Epoch 4/10\n",
      "938/938 [==============================] - 8s 9ms/step - loss: 0.2756 - accuracy: 0.9033 - val_loss: 0.3049 - val_accuracy: 0.8930\n",
      "Epoch 5/10\n",
      "938/938 [==============================] - 9s 9ms/step - loss: 0.2608 - accuracy: 0.9078 - val_loss: 0.2956 - val_accuracy: 0.8933\n",
      "Epoch 6/10\n",
      "938/938 [==============================] - 9s 10ms/step - loss: 0.2467 - accuracy: 0.9126 - val_loss: 0.2778 - val_accuracy: 0.8996\n",
      "Epoch 7/10\n",
      "938/938 [==============================] - 9s 9ms/step - loss: 0.2340 - accuracy: 0.9171 - val_loss: 0.2876 - val_accuracy: 0.8960\n",
      "Epoch 8/10\n",
      "938/938 [==============================] - 9s 10ms/step - loss: 0.2244 - accuracy: 0.9201 - val_loss: 0.2743 - val_accuracy: 0.8989\n",
      "Epoch 9/10\n",
      "938/938 [==============================] - 9s 10ms/step - loss: 0.2146 - accuracy: 0.9243 - val_loss: 0.2764 - val_accuracy: 0.9012\n",
      "Epoch 10/10\n",
      "938/938 [==============================] - 9s 10ms/step - loss: 0.2054 - accuracy: 0.9267 - val_loss: 0.2693 - val_accuracy: 0.9036\n"
     ]
    }
   ],
   "source": [
    "history_1_3 = model_1_3.fit(x_train_1_3, y_train_1_3,\n",
    "                        epochs=epochs, \n",
    "                        batch_size=batch_size,\n",
    "                        validation_data=(x_test_1_3, y_test_1_3))"
   ]
  },
  {
   "cell_type": "code",
   "execution_count": 23,
   "id": "bfecf483",
   "metadata": {},
   "outputs": [
    {
     "name": "stdout",
     "output_type": "stream",
     "text": [
      "157/157 [==============================] - 1s 3ms/step - loss: 0.2693 - accuracy: 0.9036\n",
      "\n",
      "Test accuracy: 90.4%\n"
     ]
    }
   ],
   "source": [
    "loss_1_3, acc_1_3 = model_1_3.evaluate(x_test_1_3, y_test_1_3, batch_size=batch_size)\n",
    "print(\"\\nTest accuracy: %.1f%%\" % (100.0 * acc_1_3))"
   ]
  },
  {
   "cell_type": "markdown",
   "id": "c5c31123",
   "metadata": {},
   "source": [
    "[Back to table of contents](#toc)"
   ]
  },
  {
   "cell_type": "markdown",
   "id": "2cb33f8f",
   "metadata": {},
   "source": [
    "#### Model 1.4\n",
    "##### add more batches   <a class=\"anchor\" id=\"model14\"></a>"
   ]
  },
  {
   "cell_type": "code",
   "execution_count": 24,
   "id": "4fd6eb11",
   "metadata": {},
   "outputs": [],
   "source": [
    "x_train_1_4 = x_train[:]\n",
    "x_test_1_4 = x_test[:]\n",
    "\n",
    "y_train_1_4 = y_train[:] \n",
    "y_test_1_4 = y_test[:] "
   ]
  },
  {
   "cell_type": "code",
   "execution_count": 25,
   "id": "84b71eb2",
   "metadata": {},
   "outputs": [],
   "source": [
    "model_1_4 = Sequential([\n",
    "    Conv2D(32, (3,3), padding='same', activation='relu', input_shape=input_shape),\n",
    "    MaxPooling2D(pool_size=2),\n",
    "    Flatten(),\n",
    "    Dense(num_classes, activation='softmax')\n",
    "    ])\n",
    "\n",
    "model_1_4.compile(loss='categorical_crossentropy', \n",
    "              optimizer='adam',\n",
    "              metrics=['accuracy'])"
   ]
  },
  {
   "cell_type": "code",
   "execution_count": 26,
   "id": "0b581c71",
   "metadata": {},
   "outputs": [
    {
     "name": "stdout",
     "output_type": "stream",
     "text": [
      "Epoch 1/10\n",
      "469/469 [==============================] - 9s 19ms/step - loss: 0.5245 - accuracy: 0.8197 - val_loss: 0.4131 - val_accuracy: 0.8568\n",
      "Epoch 2/10\n",
      "469/469 [==============================] - 9s 19ms/step - loss: 0.3520 - accuracy: 0.8781 - val_loss: 0.3493 - val_accuracy: 0.8779\n",
      "Epoch 3/10\n",
      "469/469 [==============================] - 8s 18ms/step - loss: 0.3125 - accuracy: 0.8913 - val_loss: 0.3273 - val_accuracy: 0.8840\n",
      "Epoch 4/10\n",
      "469/469 [==============================] - 9s 18ms/step - loss: 0.2888 - accuracy: 0.8987 - val_loss: 0.3171 - val_accuracy: 0.8879\n",
      "Epoch 5/10\n",
      "469/469 [==============================] - 8s 17ms/step - loss: 0.2703 - accuracy: 0.9050 - val_loss: 0.3069 - val_accuracy: 0.8917\n",
      "Epoch 6/10\n",
      "469/469 [==============================] - 9s 19ms/step - loss: 0.2585 - accuracy: 0.9077 - val_loss: 0.2962 - val_accuracy: 0.8928\n",
      "Epoch 7/10\n",
      "469/469 [==============================] - 9s 18ms/step - loss: 0.2486 - accuracy: 0.9114 - val_loss: 0.2934 - val_accuracy: 0.8952\n",
      "Epoch 8/10\n",
      "469/469 [==============================] - 9s 18ms/step - loss: 0.2384 - accuracy: 0.9156 - val_loss: 0.2868 - val_accuracy: 0.8973\n",
      "Epoch 9/10\n",
      "469/469 [==============================] - 9s 18ms/step - loss: 0.2303 - accuracy: 0.9182 - val_loss: 0.2843 - val_accuracy: 0.8957\n",
      "Epoch 10/10\n",
      "469/469 [==============================] - 9s 19ms/step - loss: 0.2222 - accuracy: 0.9208 - val_loss: 0.2798 - val_accuracy: 0.9008\n"
     ]
    }
   ],
   "source": [
    "history_1_4 = model_1_4.fit(x_train_1_4, y_train_1_4,\n",
    "                        epochs=epochs, \n",
    "                        batch_size=128,\n",
    "                        validation_data=(x_test_1_4, y_test_1_4))"
   ]
  },
  {
   "cell_type": "code",
   "execution_count": 27,
   "id": "b410652f",
   "metadata": {},
   "outputs": [
    {
     "name": "stdout",
     "output_type": "stream",
     "text": [
      "100/100 [==============================] - 0s 5ms/step - loss: 0.2798 - accuracy: 0.9008\n",
      "\n",
      "Test accuracy: 90.1%\n"
     ]
    }
   ],
   "source": [
    "loss_1_4, acc_1_4 = model_1_4.evaluate(x_test_1_4, y_test_1_4, batch_size=100)\n",
    "print(\"\\nTest accuracy: %.1f%%\" % (100.0 * acc_1_4))"
   ]
  },
  {
   "cell_type": "markdown",
   "id": "cb256b04",
   "metadata": {},
   "source": [
    "[Back to table of contents](#toc)"
   ]
  },
  {
   "cell_type": "markdown",
   "id": "1682dc02",
   "metadata": {},
   "source": [
    "### Model 1.5\n",
    "#### change kernel  <a class=\"anchor\" id=\"model15\"></a>"
   ]
  },
  {
   "cell_type": "code",
   "execution_count": 28,
   "id": "eaf01d50",
   "metadata": {},
   "outputs": [],
   "source": [
    "x_train_1_5 = x_train[:]\n",
    "x_test_1_5 = x_test[:]\n",
    "\n",
    "y_train_1_5 = y_train[:] \n",
    "y_test_1_5 = y_test[:] "
   ]
  },
  {
   "cell_type": "code",
   "execution_count": 29,
   "id": "57d5aa3b",
   "metadata": {},
   "outputs": [],
   "source": [
    "model_1_5 = Sequential([\n",
    "    Conv2D(32, (7,7), padding='same', activation='relu', input_shape=input_shape),\n",
    "    MaxPooling2D(pool_size=2),\n",
    "    Flatten(),\n",
    "    Dense(num_classes, activation='softmax')\n",
    "    ])\n",
    "\n",
    "model_1_5.compile(loss='categorical_crossentropy', \n",
    "              optimizer='adam',\n",
    "              metrics=['accuracy'])"
   ]
  },
  {
   "cell_type": "code",
   "execution_count": 30,
   "id": "ad9bb266",
   "metadata": {},
   "outputs": [
    {
     "name": "stdout",
     "output_type": "stream",
     "text": [
      "Epoch 1/10\n",
      "938/938 [==============================] - 12s 13ms/step - loss: 0.4677 - accuracy: 0.8369 - val_loss: 0.3771 - val_accuracy: 0.8663\n",
      "Epoch 2/10\n",
      "938/938 [==============================] - 11s 12ms/step - loss: 0.3238 - accuracy: 0.8866 - val_loss: 0.3293 - val_accuracy: 0.8859\n",
      "Epoch 3/10\n",
      "938/938 [==============================] - 12s 13ms/step - loss: 0.2867 - accuracy: 0.8992 - val_loss: 0.3034 - val_accuracy: 0.8924\n",
      "Epoch 4/10\n",
      "938/938 [==============================] - 12s 13ms/step - loss: 0.2616 - accuracy: 0.9070 - val_loss: 0.2982 - val_accuracy: 0.8905\n",
      "Epoch 5/10\n",
      "938/938 [==============================] - 12s 12ms/step - loss: 0.2416 - accuracy: 0.9137 - val_loss: 0.2800 - val_accuracy: 0.9024\n",
      "Epoch 6/10\n",
      "938/938 [==============================] - 12s 12ms/step - loss: 0.2264 - accuracy: 0.9182 - val_loss: 0.2736 - val_accuracy: 0.9009\n",
      "Epoch 7/10\n",
      "938/938 [==============================] - 12s 13ms/step - loss: 0.2109 - accuracy: 0.9236 - val_loss: 0.2746 - val_accuracy: 0.9018\n",
      "Epoch 8/10\n",
      "938/938 [==============================] - 12s 12ms/step - loss: 0.1988 - accuracy: 0.9275 - val_loss: 0.2705 - val_accuracy: 0.9062\n",
      "Epoch 9/10\n",
      "938/938 [==============================] - 12s 12ms/step - loss: 0.1865 - accuracy: 0.9319 - val_loss: 0.2646 - val_accuracy: 0.9069\n",
      "Epoch 10/10\n",
      "938/938 [==============================] - 12s 12ms/step - loss: 0.1784 - accuracy: 0.9354 - val_loss: 0.2696 - val_accuracy: 0.9092\n"
     ]
    }
   ],
   "source": [
    "history_1_5 = model_1_5.fit(x_train_1_5, y_train_1_5,\n",
    "                        epochs=epochs, \n",
    "                        batch_size=batch_size,\n",
    "                        validation_data=(x_test_1_5, y_test_1_5))"
   ]
  },
  {
   "cell_type": "code",
   "execution_count": 31,
   "id": "e4bd5550",
   "metadata": {},
   "outputs": [
    {
     "name": "stdout",
     "output_type": "stream",
     "text": [
      "157/157 [==============================] - 1s 4ms/step - loss: 0.2696 - accuracy: 0.9092\n",
      "\n",
      "Test accuracy: 90.9%\n"
     ]
    }
   ],
   "source": [
    "loss_1_5, acc_1_5 = model_1_5.evaluate(x_test_1_5, y_test_1_5, batch_size=batch_size)\n",
    "print(\"\\nTest accuracy: %.1f%%\" % (100.0 * acc_1_5))"
   ]
  },
  {
   "cell_type": "markdown",
   "id": "7391c87f",
   "metadata": {},
   "source": [
    "[Back to table of contents](#toc)"
   ]
  },
  {
   "cell_type": "markdown",
   "id": "73cedf35",
   "metadata": {},
   "source": [
    "#### Comparison  <a class=\"anchor\" id=\"model1_compare\"></a>"
   ]
  },
  {
   "cell_type": "code",
   "execution_count": 32,
   "id": "26c3ff43",
   "metadata": {},
   "outputs": [
    {
     "name": "stdout",
     "output_type": "stream",
     "text": [
      "1. Basic: optimizer - adam, padding - same, kernel - 3, activation - relu, batches - 64\n",
      "Train accuracy: 92.9%\n",
      "Test accuracy: 90.4%\n",
      "\n",
      "1.1. Change optimizer: sgd\n",
      "Train accuracy: 86.3%\n",
      "Test accuracy: 84.1%\n",
      "\n",
      "1.2. Change activation function: sigmoid\n",
      "Train accuracy: 87.9%\n",
      "Test accuracy: 84.9%\n",
      "\n",
      "1.3. Change padding: valid\n",
      "Train accuracy: 92.7%\n",
      "Test accuracy: 90.4%\n",
      "\n",
      "1.4. More batches: 100\n",
      "Train accuracy: 92.1%\n",
      "Test accuracy: 90.1%\n",
      "\n",
      "1.5. Change kernel size: 7\n",
      "Train accuracy: 93.5%\n",
      "Test accuracy: 90.9%\n",
      "\n"
     ]
    }
   ],
   "source": [
    "print('1. Basic: optimizer - adam, padding - same, kernel - 3, activation - relu, batches - 64')\n",
    "print(\"Train accuracy: %.1f%%\" % (100.0 * history_1.history['accuracy'][-1]))\n",
    "print(\"Test accuracy: %.1f%%\\n\" % (100.0 * acc_1))\n",
    "print('1.1. Change optimizer: sgd')\n",
    "print(\"Train accuracy: %.1f%%\" % (100.0 * history_1_1.history['accuracy'][-1]))\n",
    "print(\"Test accuracy: %.1f%%\\n\" % (100.0 * acc_1_1))\n",
    "print('1.2. Change activation function: sigmoid')\n",
    "print(\"Train accuracy: %.1f%%\" % (100.0 * history_1_2.history['accuracy'][-1]))\n",
    "print(\"Test accuracy: %.1f%%\\n\" % (100.0 * acc_1_2))\n",
    "print('1.3. Change padding: valid')\n",
    "print(\"Train accuracy: %.1f%%\" % (100.0 * history_1_3.history['accuracy'][-1]))\n",
    "print(\"Test accuracy: %.1f%%\\n\" % (100.0 * acc_1_3))\n",
    "print('1.4. More batches: 100')\n",
    "print(\"Train accuracy: %.1f%%\" % (100.0 * history_1_4.history['accuracy'][-1]))\n",
    "print(\"Test accuracy: %.1f%%\\n\" % (100.0 * acc_1_4))\n",
    "print('1.5. Change kernel size: 7')\n",
    "print(\"Train accuracy: %.1f%%\" % (100.0 * history_1_5.history['accuracy'][-1]))\n",
    "print(\"Test accuracy: %.1f%%\\n\" % (100.0 * acc_1_5))"
   ]
  },
  {
   "cell_type": "code",
   "execution_count": 33,
   "id": "63a56430",
   "metadata": {},
   "outputs": [
    {
     "data": {
      "image/png": "[encoded data removed]",
      "text/plain": [
       "<Figure size 640x480 with 6 Axes>"
      ]
     },
     "metadata": {},
     "output_type": "display_data"
    }
   ],
   "source": [
    "fig, ax = plt.subplots(3, 2)\n",
    "#fig, ((ax1, ax2,ax3, ax4), ( ax5, ax6 )) = plt.subplots(3, 2)\n",
    "fig.suptitle('')\n",
    "ax[0,0].plot(history_1.history['accuracy'], 'blue')\n",
    "ax[0,0].plot(history_1.history['val_accuracy'], 'green')\n",
    "ax[0,0].set_title('basic')\n",
    "\n",
    "ax[0,1].plot(history_1_1.history['accuracy'], 'blue')\n",
    "ax[0,1].plot(history_1_1.history['val_accuracy'], 'green')\n",
    "ax[0,1].set_title('optimizer sgd')\n",
    "ax[1,0].plot(history_1_2.history['accuracy'], 'blue')\n",
    "ax[1,0].plot(history_1_2.history['val_accuracy'], 'green')\n",
    "ax[1,0].set_title('activation sigmoid')\n",
    "ax[1,1].plot(history_1_3.history['accuracy'], 'blue')\n",
    "ax[1,1].plot(history_1_3.history['val_accuracy'], 'green')\n",
    "ax[1,1].set_title('padding valid')\n",
    "ax[2,0].plot(history_1_4.history['accuracy'], 'blue')\n",
    "ax[2,0].plot(history_1_4.history['val_accuracy'], 'green')\n",
    "ax[2,0].set_title('more batches')\n",
    "ax[2,1].plot(history_1_5.history['accuracy'], 'blue')\n",
    "ax[2,1].plot(history_1_5.history['val_accuracy'], 'green')\n",
    "ax[2,1].set_title('kernel 7')\n",
    "\n",
    "fig.legend(['train acc', 'val acc'], fontsize=6)\n",
    "\n",
    "for ax in fig.get_axes():\n",
    "    ax.label_outer()"
   ]
  },
  {
   "cell_type": "markdown",
   "id": "032c2ccc",
   "metadata": {},
   "source": [
    "[Back to table of contents](#toc)"
   ]
  },
  {
   "cell_type": "markdown",
   "id": "40dc1d3c",
   "metadata": {},
   "source": [
    "## Adding more layers, changing layer settings <a class=\"anchor\" id=\"modele25\"></a>"
   ]
  },
  {
   "cell_type": "markdown",
   "id": "b1041381",
   "metadata": {},
   "source": [
    "### Model 2 <a class=\"anchor\" id=\"model2\"></a>\n",
    "#### 2 convolutions layer"
   ]
  },
  {
   "cell_type": "code",
   "execution_count": 34,
   "id": "f2c15101",
   "metadata": {},
   "outputs": [],
   "source": [
    "#model_2.save_weights('model_1.h5')\n",
    "#model_1 = load_model('model_1.h5')"
   ]
  },
  {
   "cell_type": "code",
   "execution_count": 35,
   "id": "c5d4b6cf",
   "metadata": {},
   "outputs": [],
   "source": [
    "model_2 = Sequential([\n",
    "    Conv2D(32, (3,3), padding='same', activation='relu', input_shape=input_shape),\n",
    "    Conv2D(64, (3,3), padding='same', activation='relu'),\n",
    "    MaxPooling2D(pool_size=2),\n",
    "    Flatten(),\n",
    "    Dense(num_classes, activation='softmax')\n",
    "    ])\n",
    "\n",
    "model_2.compile(loss='categorical_crossentropy', \n",
    "              optimizer='adam',\n",
    "              metrics=['accuracy'])"
   ]
  },
  {
   "cell_type": "code",
   "execution_count": 36,
   "id": "0837dfa8",
   "metadata": {},
   "outputs": [],
   "source": [
    "x_train_2 = x_train[:]\n",
    "x_test_2 = x_test[:]\n",
    "\n",
    "y_train_2 = y_train[:] \n",
    "y_test_2 = y_test[:] "
   ]
  },
  {
   "cell_type": "code",
   "execution_count": 37,
   "id": "9ac52cb1",
   "metadata": {},
   "outputs": [
    {
     "name": "stdout",
     "output_type": "stream",
     "text": [
      "Epoch 1/10\n",
      "938/938 [==============================] - 45s 48ms/step - loss: 0.4042 - accuracy: 0.8586 - val_loss: 0.3043 - val_accuracy: 0.8919\n",
      "Epoch 2/10\n",
      "938/938 [==============================] - 43s 46ms/step - loss: 0.2645 - accuracy: 0.9065 - val_loss: 0.2764 - val_accuracy: 0.8991\n",
      "Epoch 3/10\n",
      "938/938 [==============================] - 44s 47ms/step - loss: 0.2211 - accuracy: 0.9209 - val_loss: 0.2568 - val_accuracy: 0.9074\n",
      "Epoch 4/10\n",
      "938/938 [==============================] - 43s 46ms/step - loss: 0.1916 - accuracy: 0.9307 - val_loss: 0.2482 - val_accuracy: 0.9154\n",
      "Epoch 5/10\n",
      "938/938 [==============================] - 44s 47ms/step - loss: 0.1676 - accuracy: 0.9396 - val_loss: 0.2621 - val_accuracy: 0.9081\n",
      "Epoch 6/10\n",
      "938/938 [==============================] - 43s 46ms/step - loss: 0.1493 - accuracy: 0.9461 - val_loss: 0.2533 - val_accuracy: 0.9120\n",
      "Epoch 7/10\n",
      "938/938 [==============================] - 45s 48ms/step - loss: 0.1312 - accuracy: 0.9535 - val_loss: 0.2651 - val_accuracy: 0.9131\n",
      "Epoch 8/10\n",
      "938/938 [==============================] - 45s 48ms/step - loss: 0.1144 - accuracy: 0.9585 - val_loss: 0.2609 - val_accuracy: 0.9166\n",
      "Epoch 9/10\n",
      "938/938 [==============================] - 46s 49ms/step - loss: 0.0990 - accuracy: 0.9645 - val_loss: 0.2735 - val_accuracy: 0.9170\n",
      "Epoch 10/10\n",
      "938/938 [==============================] - 42s 45ms/step - loss: 0.0889 - accuracy: 0.9675 - val_loss: 0.2792 - val_accuracy: 0.9189\n"
     ]
    }
   ],
   "source": [
    "history_2 = model_2.fit(x_train_2, y_train_2,\n",
    "                        epochs=epochs, \n",
    "                        batch_size=batch_size,\n",
    "                        validation_data=(x_test_2, y_test_2))"
   ]
  },
  {
   "cell_type": "code",
   "execution_count": 38,
   "id": "57b156b9",
   "metadata": {},
   "outputs": [
    {
     "name": "stdout",
     "output_type": "stream",
     "text": [
      "157/157 [==============================] - 1s 9ms/step - loss: 0.2792 - accuracy: 0.9189\n",
      "\n",
      "Test accuracy: 91.9%\n"
     ]
    }
   ],
   "source": [
    "loss_2, acc_2 = model_2.evaluate(x_test_2, y_test_2, batch_size=batch_size)\n",
    "print(\"\\nTest accuracy: %.1f%%\" % (100.0 * acc_2))"
   ]
  },
  {
   "cell_type": "markdown",
   "id": "1662b334",
   "metadata": {},
   "source": [
    "[Back to table of contents](#toc)"
   ]
  },
  {
   "cell_type": "markdown",
   "id": "3ae01263",
   "metadata": {},
   "source": [
    "### Model 3 <a class=\"anchor\" id=\"model3\"></a>\n",
    "#### 3  convolutions layer"
   ]
  },
  {
   "cell_type": "code",
   "execution_count": 39,
   "id": "1945b19b",
   "metadata": {},
   "outputs": [],
   "source": [
    "model_3 = Sequential([\n",
    "    Conv2D(32, (3,3), padding='same', activation='relu', input_shape=input_shape),\n",
    "    Conv2D(32, (3,3), padding='same', activation='relu'),\n",
    "    Conv2D(64, (3,3), padding='same', activation='relu'),\n",
    "    MaxPooling2D(pool_size=2),\n",
    "    Flatten(),\n",
    "    Dense(num_classes, activation='softmax')\n",
    "    ])\n",
    "\n",
    "model_3.compile(loss='categorical_crossentropy', \n",
    "              optimizer='adam',\n",
    "              metrics=['accuracy'])"
   ]
  },
  {
   "cell_type": "code",
   "execution_count": 40,
   "id": "32d2d3dc",
   "metadata": {},
   "outputs": [],
   "source": [
    "x_train_3 = x_train[:]\n",
    "x_test_3 = x_test[:]\n",
    "\n",
    "y_train_3 = y_train[:] \n",
    "y_test_3 = y_test[:] "
   ]
  },
  {
   "cell_type": "code",
   "execution_count": 41,
   "id": "763f7c5c",
   "metadata": {},
   "outputs": [
    {
     "name": "stdout",
     "output_type": "stream",
     "text": [
      "Epoch 1/10\n",
      "938/938 [==============================] - 65s 69ms/step - loss: 0.3937 - accuracy: 0.8600 - val_loss: 0.3118 - val_accuracy: 0.8889\n",
      "Epoch 2/10\n",
      "938/938 [==============================] - 62s 66ms/step - loss: 0.2450 - accuracy: 0.9135 - val_loss: 0.2515 - val_accuracy: 0.9102\n",
      "Epoch 3/10\n",
      "938/938 [==============================] - 67s 71ms/step - loss: 0.1994 - accuracy: 0.9281 - val_loss: 0.2372 - val_accuracy: 0.9173\n",
      "Epoch 4/10\n",
      "938/938 [==============================] - 66s 70ms/step - loss: 0.1688 - accuracy: 0.9395 - val_loss: 0.2316 - val_accuracy: 0.9191\n",
      "Epoch 5/10\n",
      "938/938 [==============================] - 62s 66ms/step - loss: 0.1419 - accuracy: 0.9488 - val_loss: 0.2330 - val_accuracy: 0.9187\n",
      "Epoch 6/10\n",
      "938/938 [==============================] - 60s 64ms/step - loss: 0.1177 - accuracy: 0.9576 - val_loss: 0.2380 - val_accuracy: 0.9212\n",
      "Epoch 7/10\n",
      "938/938 [==============================] - 61s 65ms/step - loss: 0.0959 - accuracy: 0.9660 - val_loss: 0.2713 - val_accuracy: 0.9193\n",
      "Epoch 8/10\n",
      "938/938 [==============================] - 66s 70ms/step - loss: 0.0820 - accuracy: 0.9702 - val_loss: 0.2954 - val_accuracy: 0.9142\n",
      "Epoch 9/10\n",
      "938/938 [==============================] - 66s 70ms/step - loss: 0.0667 - accuracy: 0.9754 - val_loss: 0.2970 - val_accuracy: 0.9169\n",
      "Epoch 10/10\n",
      "938/938 [==============================] - 65s 70ms/step - loss: 0.0588 - accuracy: 0.9784 - val_loss: 0.3259 - val_accuracy: 0.9178\n"
     ]
    }
   ],
   "source": [
    "history_3 = model_3.fit(x_train_3, y_train_3,\n",
    "                        epochs=epochs, \n",
    "                        batch_size=batch_size,\n",
    "                        validation_data=(x_test_3, y_test_3))"
   ]
  },
  {
   "cell_type": "code",
   "execution_count": 42,
   "id": "55b01d2a",
   "metadata": {},
   "outputs": [
    {
     "name": "stdout",
     "output_type": "stream",
     "text": [
      "157/157 [==============================] - 2s 13ms/step - loss: 0.3259 - accuracy: 0.9178\n",
      "\n",
      "Test accuracy: 91.8%\n"
     ]
    }
   ],
   "source": [
    "loss_3, acc_3 = model_3.evaluate(x_test_3, y_test_3, batch_size=batch_size)\n",
    "print(\"\\nTest accuracy: %.1f%%\" % (100.0 * acc_3))"
   ]
  },
  {
   "cell_type": "markdown",
   "id": "b782b839",
   "metadata": {},
   "source": [
    "[Back to table of contents](#toc)"
   ]
  },
  {
   "cell_type": "markdown",
   "id": "f5267d28",
   "metadata": {},
   "source": [
    "### Model 4 <a class=\"anchor\" id=\"model4\"></a>\n",
    "#### 2  convolutions layer, fully connected layer, dropout"
   ]
  },
  {
   "cell_type": "code",
   "execution_count": 46,
   "id": "f647a52c",
   "metadata": {},
   "outputs": [],
   "source": [
    "model_4 = Sequential([\n",
    "    Conv2D(32, (3,3), padding='same', activation='relu', input_shape=input_shape),\n",
    "    Conv2D(64, (3,3), padding='same', activation='relu'),\n",
    "    MaxPooling2D(pool_size=2),\n",
    "    Dropout(0.25),\n",
    "    Flatten(),\n",
    "    Dense(64, activation='relu'),\n",
    "    Dense(num_classes, activation='softmax')\n",
    "    ])\n",
    "\n",
    "model_4.compile(loss='categorical_crossentropy', \n",
    "              optimizer='adam',\n",
    "              metrics=['accuracy'])"
   ]
  },
  {
   "cell_type": "code",
   "execution_count": 47,
   "id": "e39d3867",
   "metadata": {},
   "outputs": [],
   "source": [
    "x_train_4 = x_train[:]\n",
    "x_test_4 = x_test[:]\n",
    "\n",
    "y_train_4 = y_train[:] \n",
    "y_test_4 = y_test[:] "
   ]
  },
  {
   "cell_type": "code",
   "execution_count": 48,
   "id": "7924e528",
   "metadata": {},
   "outputs": [
    {
     "name": "stdout",
     "output_type": "stream",
     "text": [
      "Epoch 1/10\n",
      "938/938 [==============================] - 53s 56ms/step - loss: 0.3882 - accuracy: 0.8629 - val_loss: 0.3296 - val_accuracy: 0.8817\n",
      "Epoch 2/10\n",
      "938/938 [==============================] - 55s 58ms/step - loss: 0.2465 - accuracy: 0.9107 - val_loss: 0.2608 - val_accuracy: 0.9088\n",
      "Epoch 3/10\n",
      "938/938 [==============================] - 54s 58ms/step - loss: 0.2003 - accuracy: 0.9265 - val_loss: 0.2284 - val_accuracy: 0.9204\n",
      "Epoch 4/10\n",
      "938/938 [==============================] - 54s 58ms/step - loss: 0.1656 - accuracy: 0.9387 - val_loss: 0.2316 - val_accuracy: 0.9168\n",
      "Epoch 5/10\n",
      "938/938 [==============================] - 52s 56ms/step - loss: 0.1427 - accuracy: 0.9467 - val_loss: 0.2309 - val_accuracy: 0.9228\n",
      "Epoch 6/10\n",
      "938/938 [==============================] - 53s 57ms/step - loss: 0.1182 - accuracy: 0.9556 - val_loss: 0.2424 - val_accuracy: 0.9208\n",
      "Epoch 7/10\n",
      "938/938 [==============================] - 52s 56ms/step - loss: 0.0986 - accuracy: 0.9633 - val_loss: 0.2266 - val_accuracy: 0.9259\n",
      "Epoch 8/10\n",
      "938/938 [==============================] - 53s 57ms/step - loss: 0.0854 - accuracy: 0.9673 - val_loss: 0.2595 - val_accuracy: 0.9264\n",
      "Epoch 9/10\n",
      "938/938 [==============================] - 54s 57ms/step - loss: 0.0718 - accuracy: 0.9730 - val_loss: 0.2715 - val_accuracy: 0.9254\n",
      "Epoch 10/10\n",
      "938/938 [==============================] - 52s 55ms/step - loss: 0.0598 - accuracy: 0.9779 - val_loss: 0.2901 - val_accuracy: 0.9208\n"
     ]
    }
   ],
   "source": [
    "history_4 = model_4.fit(x_train_4, y_train_4,\n",
    "                        epochs=epochs, \n",
    "                        batch_size=batch_size,\n",
    "                        validation_data=(x_test_4, y_test_4))"
   ]
  },
  {
   "cell_type": "code",
   "execution_count": 49,
   "id": "9a94abf3",
   "metadata": {},
   "outputs": [
    {
     "name": "stdout",
     "output_type": "stream",
     "text": [
      "157/157 [==============================] - 2s 10ms/step - loss: 0.2901 - accuracy: 0.9208\n",
      "\n",
      "Test accuracy: 92.1%\n"
     ]
    }
   ],
   "source": [
    "loss_4, acc_4 = model_4.evaluate(x_test_4, y_test_4, batch_size=batch_size)\n",
    "print(\"\\nTest accuracy: %.1f%%\" % (100.0 * acc_4))"
   ]
  },
  {
   "cell_type": "markdown",
   "id": "bf3511f6",
   "metadata": {},
   "source": [
    "[Back to table of contents](#toc)"
   ]
  },
  {
   "cell_type": "markdown",
   "id": "c5c1238d",
   "metadata": {},
   "source": [
    "### Model 5 <a class=\"anchor\" id=\"model5\"></a>\n",
    "#### fully connected layer, dropout"
   ]
  },
  {
   "cell_type": "code",
   "execution_count": 50,
   "id": "4f85dfdc",
   "metadata": {},
   "outputs": [],
   "source": [
    "model_5 = Sequential([\n",
    "    Conv2D(32, (5,5), padding='same', activation='relu', input_shape=input_shape),\n",
    "    Conv2D(32, (3,3), padding='same', activation='relu'),\n",
    "    Conv2D(32, (3,3), padding='same', activation='relu'),\n",
    "    MaxPooling2D(pool_size=2),\n",
    "    Dropout(0.25),\n",
    "    Flatten(),\n",
    "    Dense(128, activation='relu'),\n",
    "    Dense(64, activation='relu'),\n",
    "    Dropout(0.2),\n",
    "    Dense(num_classes, activation='softmax')\n",
    "    ])\n",
    "\n",
    "model_5.compile(loss='categorical_crossentropy', \n",
    "              optimizer='adam',\n",
    "              metrics=['accuracy'])"
   ]
  },
  {
   "cell_type": "code",
   "execution_count": 51,
   "id": "513ec5c5",
   "metadata": {},
   "outputs": [],
   "source": [
    "x_train_5 = x_train[:]\n",
    "x_test_5 = x_test[:]\n",
    "\n",
    "y_train_5 = y_train[:]\n",
    "y_test_5 = y_test[:] "
   ]
  },
  {
   "cell_type": "code",
   "execution_count": 52,
   "id": "9db62de9",
   "metadata": {},
   "outputs": [
    {
     "name": "stdout",
     "output_type": "stream",
     "text": [
      "Epoch 1/10\n",
      "938/938 [==============================] - 67s 70ms/step - loss: 0.4565 - accuracy: 0.8367 - val_loss: 0.3239 - val_accuracy: 0.8763\n",
      "Epoch 2/10\n",
      "938/938 [==============================] - 64s 68ms/step - loss: 0.2791 - accuracy: 0.8986 - val_loss: 0.2753 - val_accuracy: 0.8977\n",
      "Epoch 3/10\n",
      "938/938 [==============================] - 63s 68ms/step - loss: 0.2352 - accuracy: 0.9143 - val_loss: 0.2324 - val_accuracy: 0.9146\n",
      "Epoch 4/10\n",
      "938/938 [==============================] - 65s 69ms/step - loss: 0.2029 - accuracy: 0.9262 - val_loss: 0.2338 - val_accuracy: 0.9171\n",
      "Epoch 5/10\n",
      "938/938 [==============================] - 65s 69ms/step - loss: 0.1781 - accuracy: 0.9337 - val_loss: 0.2227 - val_accuracy: 0.9217\n",
      "Epoch 6/10\n",
      "938/938 [==============================] - 67s 71ms/step - loss: 0.1586 - accuracy: 0.9418 - val_loss: 0.2203 - val_accuracy: 0.9210\n",
      "Epoch 7/10\n",
      "938/938 [==============================] - 66s 70ms/step - loss: 0.1382 - accuracy: 0.9485 - val_loss: 0.2212 - val_accuracy: 0.9219\n",
      "Epoch 8/10\n",
      "938/938 [==============================] - 66s 70ms/step - loss: 0.1232 - accuracy: 0.9540 - val_loss: 0.2279 - val_accuracy: 0.9295\n",
      "Epoch 9/10\n",
      "938/938 [==============================] - 63s 67ms/step - loss: 0.1103 - accuracy: 0.9590 - val_loss: 0.2342 - val_accuracy: 0.9277\n",
      "Epoch 10/10\n",
      "938/938 [==============================] - 63s 67ms/step - loss: 0.0984 - accuracy: 0.9637 - val_loss: 0.2586 - val_accuracy: 0.9252\n"
     ]
    }
   ],
   "source": [
    "history_5 = model_5.fit(x_train_5, y_train_5,\n",
    "                        epochs=epochs, \n",
    "                        batch_size=batch_size,\n",
    "                        validation_data=(x_test_5, y_test_5))"
   ]
  },
  {
   "cell_type": "code",
   "execution_count": 53,
   "id": "7753d8c9",
   "metadata": {},
   "outputs": [
    {
     "name": "stdout",
     "output_type": "stream",
     "text": [
      "157/157 [==============================] - 2s 10ms/step - loss: 0.2586 - accuracy: 0.9252\n",
      "\n",
      "Test accuracy: 92.5%\n"
     ]
    }
   ],
   "source": [
    "loss_5, acc_5 = model_5.evaluate(x_test_5, y_test_5, batch_size=batch_size)\n",
    "print(\"\\nTest accuracy: %.1f%%\" % (100.0 * acc_5))"
   ]
  },
  {
   "cell_type": "markdown",
   "id": "18851a1a",
   "metadata": {},
   "source": [
    "[Back to table of contents](#toc)"
   ]
  },
  {
   "cell_type": "markdown",
   "id": "fffaa1ce",
   "metadata": {},
   "source": [
    "### Comparison models 2-5 <a class=\"anchor\" id=\"compare25\"></a>\n"
   ]
  },
  {
   "cell_type": "code",
   "execution_count": 54,
   "id": "e00fafb7",
   "metadata": {},
   "outputs": [
    {
     "name": "stdout",
     "output_type": "stream",
     "text": [
      "2. Two convolutional layer\n",
      "Train accuracy: 96.8%\n",
      "Test accuracy: 91.9%\n",
      "\n",
      "3. Three convolutional layer\n",
      "Train accuracy: 97.8%\n",
      "Test accuracy: 91.8%\n",
      "\n",
      "4. Two convolutional layer, dropout and additional dense layer\n",
      "Train accuracy: 97.8%\n",
      "Test accuracy: 92.1%\n",
      "\n",
      "5. Three convolutional layer, change kernel, dropout and two additional dense layer\n",
      "Train accuracy: 96.4%\n",
      "Test accuracy: 92.5%\n",
      "\n"
     ]
    }
   ],
   "source": [
    "print('2. Two convolutional layer')\n",
    "print(\"Train accuracy: %.1f%%\" % (100.0 * history_2.history['accuracy'][-1]))\n",
    "print(\"Test accuracy: %.1f%%\\n\" % (100.0 * acc_2))\n",
    "print('3. Three convolutional layer')\n",
    "print(\"Train accuracy: %.1f%%\" % (100.0 * history_3.history['accuracy'][-1]))\n",
    "print(\"Test accuracy: %.1f%%\\n\" % (100.0 * acc_3))\n",
    "print('4. Two convolutional layer, dropout and additional dense layer')\n",
    "print(\"Train accuracy: %.1f%%\" % (100.0 * history_4.history['accuracy'][-1]))\n",
    "print(\"Test accuracy: %.1f%%\\n\" % (100.0 * acc_4))\n",
    "print('5. Three convolutional layer, change kernel, dropout and two additional dense layer')\n",
    "print(\"Train accuracy: %.1f%%\" % (100.0 * history_5.history['accuracy'][-1]))\n",
    "print(\"Test accuracy: %.1f%%\\n\" % (100.0 * acc_5))\n"
   ]
  },
  {
   "cell_type": "code",
   "execution_count": 65,
   "id": "edf9fad5",
   "metadata": {},
   "outputs": [
    {
     "data": {
      "image/png": "[encoded data removed]",
      "text/plain": [
       "<Figure size 640x480 with 4 Axes>"
      ]
     },
     "metadata": {},
     "output_type": "display_data"
    }
   ],
   "source": [
    "fig, ax = plt.subplots(2, 2,sharey='all')\n",
    "\n",
    "fig.suptitle('')\n",
    "ax[0,0].plot(history_2.history['accuracy'], 'blue')\n",
    "ax[0,0].plot(history_2.history['val_accuracy'], 'green')\n",
    "ax[0,0].set_title(' Two convolutional layer',fontsize=8)\n",
    "ax[0,1].plot(history_3.history['accuracy'], 'blue')\n",
    "ax[0,1].plot(history_3.history['val_accuracy'], 'green')\n",
    "ax[0,1].set_title('Three convolutional layer',fontsize=8)\n",
    "ax[1,0].plot(history_4.history['accuracy'], 'blue')\n",
    "ax[1,0].plot(history_4.history['val_accuracy'], 'green')\n",
    "ax[1,0].set_title(' Two convolutional layer, dropout and \\n additional dense layer',fontsize=8)\n",
    "ax[1,1].plot(history_5.history['accuracy'], 'blue')\n",
    "ax[1,1].plot(history_5.history['val_accuracy'], 'green')\n",
    "ax[1,1].set_title('Three convolutional layer,  change kernel, \\n dropout and  two additional dense layer',fontsize=8)\n",
    "\n",
    "\n",
    "fig.legend(['train acc', 'val acc'], fontsize=6)\n",
    "\n",
    "for ax in fig.get_axes():\n",
    "    ax.label_outer()\n",
    "    "
   ]
  },
  {
   "cell_type": "markdown",
   "id": "690dd9bd",
   "metadata": {},
   "source": [
    "[Back to table of contents](#toc)"
   ]
  },
  {
   "cell_type": "code",
   "execution_count": null,
   "id": "b3c5281a",
   "metadata": {},
   "outputs": [],
   "source": []
  }
 ],
 "metadata": {
  "kernelspec": {
   "display_name": "Python 3 (ipykernel)",
   "language": "python",
   "name": "python3"
  },
  "language_info": {
   "codemirror_mode": {
    "name": "ipython",
    "version": 3
   },
   "file_extension": ".py",
   "mimetype": "text/x-python",
   "name": "python",
   "nbconvert_exporter": "python",
   "pygments_lexer": "ipython3",
   "version": "3.9.13"
  }
 },
 "nbformat": 4,
 "nbformat_minor": 5
}
